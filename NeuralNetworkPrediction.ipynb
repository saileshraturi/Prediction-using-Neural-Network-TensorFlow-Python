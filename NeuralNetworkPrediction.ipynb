{
 "cells": [
  {
   "cell_type": "code",
   "execution_count": 3,
   "metadata": {},
   "outputs": [
    {
     "ename": "ModuleNotFoundError",
     "evalue": "No module named 'keras'",
     "output_type": "error",
     "traceback": [
      "\u001b[0;31m---------------------------------------------------------------------------\u001b[0m",
      "\u001b[0;31mModuleNotFoundError\u001b[0m                       Traceback (most recent call last)",
      "\u001b[0;32m<ipython-input-3-cc3044134c45>\u001b[0m in \u001b[0;36m<module>\u001b[0;34m\u001b[0m\n\u001b[0;32m----> 1\u001b[0;31m \u001b[0;32mfrom\u001b[0m \u001b[0mkeras\u001b[0m\u001b[0;34m.\u001b[0m\u001b[0mdatasets\u001b[0m \u001b[0;32mimport\u001b[0m \u001b[0mcifar10\u001b[0m\u001b[0;34m\u001b[0m\u001b[0;34m\u001b[0m\u001b[0m\n\u001b[0m",
      "\u001b[0;31mModuleNotFoundError\u001b[0m: No module named 'keras'"
     ]
    }
   ],
   "source": [
    "from keras.datasets import cifar10"
   ]
  },
  {
   "cell_type": "code",
   "execution_count": 1,
   "metadata": {},
   "outputs": [],
   "source": [
    "import pandas"
   ]
  },
  {
   "cell_type": "code",
   "execution_count": 2,
   "metadata": {},
   "outputs": [
    {
     "ename": "ModuleNotFoundError",
     "evalue": "No module named 'keras'",
     "output_type": "error",
     "traceback": [
      "\u001b[0;31m---------------------------------------------------------------------------\u001b[0m",
      "\u001b[0;31mModuleNotFoundError\u001b[0m                       Traceback (most recent call last)",
      "\u001b[0;32m<ipython-input-2-88d96843a926>\u001b[0m in \u001b[0;36m<module>\u001b[0;34m\u001b[0m\n\u001b[0;32m----> 1\u001b[0;31m \u001b[0;32mimport\u001b[0m \u001b[0mkeras\u001b[0m\u001b[0;34m\u001b[0m\u001b[0;34m\u001b[0m\u001b[0m\n\u001b[0m",
      "\u001b[0;31mModuleNotFoundError\u001b[0m: No module named 'keras'"
     ]
    }
   ],
   "source": [
    "import keras"
   ]
  },
  {
   "cell_type": "code",
   "execution_count": 1,
   "metadata": {},
   "outputs": [
    {
     "ename": "ModuleNotFoundError",
     "evalue": "No module named 'tensorflow'",
     "output_type": "error",
     "traceback": [
      "\u001b[0;31m---------------------------------------------------------------------------\u001b[0m",
      "\u001b[0;31mModuleNotFoundError\u001b[0m                       Traceback (most recent call last)",
      "\u001b[0;32m<ipython-input-1-f05745da3b73>\u001b[0m in \u001b[0;36m<module>\u001b[0;34m\u001b[0m\n\u001b[0;32m----> 1\u001b[0;31m \u001b[0;32mfrom\u001b[0m \u001b[0mtensorflow\u001b[0m\u001b[0;34m.\u001b[0m\u001b[0mkeras\u001b[0m\u001b[0;34m.\u001b[0m\u001b[0mmodels\u001b[0m \u001b[0;32mimport\u001b[0m \u001b[0mSequential\u001b[0m\u001b[0;34m\u001b[0m\u001b[0;34m\u001b[0m\u001b[0m\n\u001b[0m",
      "\u001b[0;31mModuleNotFoundError\u001b[0m: No module named 'tensorflow'"
     ]
    }
   ],
   "source": [
    "from tensorflow.keras.models import Sequential\n"
   ]
  },
  {
   "cell_type": "code",
   "execution_count": 2,
   "metadata": {},
   "outputs": [
    {
     "ename": "SyntaxError",
     "evalue": "invalid syntax (<ipython-input-2-fada60668e48>, line 1)",
     "output_type": "error",
     "traceback": [
      "\u001b[0;36m  File \u001b[0;32m\"<ipython-input-2-fada60668e48>\"\u001b[0;36m, line \u001b[0;32m1\u001b[0m\n\u001b[0;31m    install tensorflow\u001b[0m\n\u001b[0m                     ^\u001b[0m\n\u001b[0;31mSyntaxError\u001b[0m\u001b[0;31m:\u001b[0m invalid syntax\n"
     ]
    }
   ],
   "source": [
    "install tensorflow"
   ]
  },
  {
   "cell_type": "code",
   "execution_count": 3,
   "metadata": {},
   "outputs": [
    {
     "ename": "ModuleNotFoundError",
     "evalue": "No module named 'tensorflow'",
     "output_type": "error",
     "traceback": [
      "\u001b[0;31m---------------------------------------------------------------------------\u001b[0m",
      "\u001b[0;31mModuleNotFoundError\u001b[0m                       Traceback (most recent call last)",
      "\u001b[0;32m<ipython-input-3-d6579f534729>\u001b[0m in \u001b[0;36m<module>\u001b[0;34m\u001b[0m\n\u001b[0;32m----> 1\u001b[0;31m \u001b[0;32mimport\u001b[0m \u001b[0mtensorflow\u001b[0m\u001b[0;34m\u001b[0m\u001b[0;34m\u001b[0m\u001b[0m\n\u001b[0m",
      "\u001b[0;31mModuleNotFoundError\u001b[0m: No module named 'tensorflow'"
     ]
    }
   ],
   "source": [
    "import tensorflow"
   ]
  },
  {
   "cell_type": "code",
   "execution_count": 4,
   "metadata": {},
   "outputs": [
    {
     "name": "stdout",
     "output_type": "stream",
     "text": [
      "Collecting package metadata (current_repodata.json): done\n",
      "Solving environment: failed with initial frozen solve. Retrying with flexible solve.\n",
      "Solving environment: failed with repodata from current_repodata.json, will retry with next repodata source.\n",
      "Collecting package metadata (repodata.json): done\n",
      "Solving environment: done\n",
      "\n",
      "## Package Plan ##\n",
      "\n",
      "  environment location: /Applications/anaconda3\n",
      "\n",
      "  added / updated specs:\n",
      "    - tensorflow\n",
      "\n",
      "\n",
      "The following packages will be downloaded:\n",
      "\n",
      "    package                    |            build\n",
      "    ---------------------------|-----------------\n",
      "    _tflow_select-2.3.0        |              mkl           3 KB\n",
      "    absl-py-0.9.0              |           py37_0         164 KB\n",
      "    astor-0.8.0                |           py37_0          46 KB\n",
      "    c-ares-1.15.0              |    h1de35cc_1001          73 KB\n",
      "    conda-4.8.2                |           py37_0         2.8 MB\n",
      "    gast-0.2.2                 |           py37_0         154 KB\n",
      "    google-pasta-0.1.8         |             py_0          43 KB\n",
      "    grpcio-1.16.1              |   py37h044775b_1         840 KB\n",
      "    keras-applications-1.0.8   |             py_0          33 KB\n",
      "    keras-preprocessing-1.1.0  |             py_1          36 KB\n",
      "    libprotobuf-3.11.4         |       hd9629dc_0         2.6 MB\n",
      "    markdown-3.1.1             |           py37_0         117 KB\n",
      "    opt_einsum-3.1.0           |             py_0          54 KB\n",
      "    protobuf-3.11.4            |   py37h0a44026_0         628 KB\n",
      "    tensorboard-2.0.0          |     pyhb38c66f_1         3.2 MB\n",
      "    tensorflow-2.0.0           |mkl_py37hda344b4_0           4 KB\n",
      "    tensorflow-base-2.0.0      |mkl_py37h66b1bf0_0        67.4 MB\n",
      "    tensorflow-estimator-2.0.0 |     pyh2649769_0         250 KB\n",
      "    termcolor-1.1.0            |           py37_1           8 KB\n",
      "    ------------------------------------------------------------\n",
      "                                           Total:        78.5 MB\n",
      "\n",
      "The following NEW packages will be INSTALLED:\n",
      "\n",
      "  _tflow_select      pkgs/main/osx-64::_tflow_select-2.3.0-mkl\n",
      "  absl-py            pkgs/main/osx-64::absl-py-0.9.0-py37_0\n",
      "  astor              pkgs/main/osx-64::astor-0.8.0-py37_0\n",
      "  c-ares             pkgs/main/osx-64::c-ares-1.15.0-h1de35cc_1001\n",
      "  gast               pkgs/main/osx-64::gast-0.2.2-py37_0\n",
      "  google-pasta       pkgs/main/noarch::google-pasta-0.1.8-py_0\n",
      "  grpcio             pkgs/main/osx-64::grpcio-1.16.1-py37h044775b_1\n",
      "  keras-applications pkgs/main/noarch::keras-applications-1.0.8-py_0\n",
      "  keras-preprocessi~ pkgs/main/noarch::keras-preprocessing-1.1.0-py_1\n",
      "  libprotobuf        pkgs/main/osx-64::libprotobuf-3.11.4-hd9629dc_0\n",
      "  markdown           pkgs/main/osx-64::markdown-3.1.1-py37_0\n",
      "  opt_einsum         pkgs/main/noarch::opt_einsum-3.1.0-py_0\n",
      "  protobuf           pkgs/main/osx-64::protobuf-3.11.4-py37h0a44026_0\n",
      "  tensorboard        pkgs/main/noarch::tensorboard-2.0.0-pyhb38c66f_1\n",
      "  tensorflow         pkgs/main/osx-64::tensorflow-2.0.0-mkl_py37hda344b4_0\n",
      "  tensorflow-base    pkgs/main/osx-64::tensorflow-base-2.0.0-mkl_py37h66b1bf0_0\n",
      "  tensorflow-estima~ pkgs/main/noarch::tensorflow-estimator-2.0.0-pyh2649769_0\n",
      "  termcolor          pkgs/main/osx-64::termcolor-1.1.0-py37_1\n",
      "\n",
      "The following packages will be UPDATED:\n",
      "\n",
      "  conda                                       4.7.12-py37_0 --> 4.8.2-py37_0\n",
      "\n",
      "\n",
      "\n",
      "Downloading and Extracting Packages\n",
      "termcolor-1.1.0      | 8 KB      | ##################################### | 100% \n",
      "tensorflow-2.0.0     | 4 KB      | ##################################### | 100% \n",
      "libprotobuf-3.11.4   | 2.6 MB    | ##################################### | 100% \n",
      "grpcio-1.16.1        | 840 KB    | ##################################### | 100% \n",
      "_tflow_select-2.3.0  | 3 KB      | ##################################### | 100% \n",
      "markdown-3.1.1       | 117 KB    | ##################################### | 100% \n",
      "keras-applications-1 | 33 KB     | ##################################### | 100% \n",
      "keras-preprocessing- | 36 KB     | ##################################### | 100% \n",
      "gast-0.2.2           | 154 KB    | ##################################### | 100% \n",
      "conda-4.8.2          | 2.8 MB    | ##################################### | 100% \n",
      "absl-py-0.9.0        | 164 KB    | ##################################### | 100% \n",
      "tensorboard-2.0.0    | 3.2 MB    | ##################################### | 100% \n",
      "astor-0.8.0          | 46 KB     | ##################################### | 100% \n",
      "google-pasta-0.1.8   | 43 KB     | ##################################### | 100% \n",
      "c-ares-1.15.0        | 73 KB     | ##################################### | 100% \n",
      "tensorflow-estimator | 250 KB    | ##################################### | 100% \n",
      "opt_einsum-3.1.0     | 54 KB     | ##################################### | 100% \n",
      "protobuf-3.11.4      | 628 KB    | ##################################### | 100% \n",
      "tensorflow-base-2.0. | 67.4 MB   | ##################################### | 100% \n",
      "Preparing transaction: done\n",
      "Verifying transaction: done\n",
      "Executing transaction: done\n",
      "\n",
      "Note: you may need to restart the kernel to use updated packages.\n"
     ]
    }
   ],
   "source": [
    "conda install tensorflow"
   ]
  },
  {
   "cell_type": "code",
   "execution_count": 5,
   "metadata": {},
   "outputs": [
    {
     "name": "stdout",
     "output_type": "stream",
     "text": [
      "Collecting package metadata (current_repodata.json): done\n",
      "Solving environment: done\n",
      "\n",
      "## Package Plan ##\n",
      "\n",
      "  environment location: /Applications/anaconda3\n",
      "\n",
      "  added / updated specs:\n",
      "    - keras\n",
      "\n",
      "\n",
      "The following packages will be downloaded:\n",
      "\n",
      "    package                    |            build\n",
      "    ---------------------------|-----------------\n",
      "    keras-2.3.1                |                0          12 KB\n",
      "    keras-base-2.3.1           |           py37_0         501 KB\n",
      "    ------------------------------------------------------------\n",
      "                                           Total:         513 KB\n",
      "\n",
      "The following NEW packages will be INSTALLED:\n",
      "\n",
      "  keras              pkgs/main/osx-64::keras-2.3.1-0\n",
      "  keras-base         pkgs/main/osx-64::keras-base-2.3.1-py37_0\n",
      "\n",
      "\n",
      "\n",
      "Downloading and Extracting Packages\n",
      "keras-base-2.3.1     | 501 KB    | ##################################### | 100% \n",
      "keras-2.3.1          | 12 KB     | ##################################### | 100% \n",
      "Preparing transaction: done\n",
      "Verifying transaction: done\n",
      "Executing transaction: done\n",
      "\n",
      "Note: you may need to restart the kernel to use updated packages.\n"
     ]
    }
   ],
   "source": [
    "conda install keras"
   ]
  },
  {
   "cell_type": "code",
   "execution_count": 6,
   "metadata": {},
   "outputs": [
    {
     "name": "stdout",
     "output_type": "stream",
     "text": [
      "Collecting package metadata (current_repodata.json): done\n",
      "Solving environment: done\n",
      "\n",
      "# All requested packages already installed.\n",
      "\n",
      "\n",
      "Note: you may need to restart the kernel to use updated packages.\n"
     ]
    }
   ],
   "source": [
    "conda install matplotlib"
   ]
  },
  {
   "cell_type": "code",
   "execution_count": 7,
   "metadata": {},
   "outputs": [
    {
     "name": "stdout",
     "output_type": "stream",
     "text": [
      "Collecting package metadata (current_repodata.json): done\n",
      "Solving environment: done\n",
      "\n",
      "# All requested packages already installed.\n",
      "\n",
      "\n",
      "Note: you may need to restart the kernel to use updated packages.\n"
     ]
    }
   ],
   "source": [
    "conda install scikit-learn"
   ]
  },
  {
   "cell_type": "code",
   "execution_count": 1,
   "metadata": {},
   "outputs": [],
   "source": [
    "import pandas as pd"
   ]
  },
  {
   "cell_type": "code",
   "execution_count": 2,
   "metadata": {},
   "outputs": [
    {
     "ename": "FileNotFoundError",
     "evalue": "[Errno 2] File b'housepricedata.csv' does not exist: b'housepricedata.csv'",
     "output_type": "error",
     "traceback": [
      "\u001b[0;31m---------------------------------------------------------------------------\u001b[0m",
      "\u001b[0;31mFileNotFoundError\u001b[0m                         Traceback (most recent call last)",
      "\u001b[0;32m<ipython-input-2-f356f464b180>\u001b[0m in \u001b[0;36m<module>\u001b[0;34m\u001b[0m\n\u001b[0;32m----> 1\u001b[0;31m \u001b[0mdf\u001b[0m \u001b[0;34m=\u001b[0m \u001b[0mpd\u001b[0m\u001b[0;34m.\u001b[0m\u001b[0mread_csv\u001b[0m\u001b[0;34m(\u001b[0m\u001b[0;34m'housepricedata.csv'\u001b[0m\u001b[0;34m)\u001b[0m\u001b[0;34m\u001b[0m\u001b[0;34m\u001b[0m\u001b[0m\n\u001b[0m",
      "\u001b[0;32m/Applications/anaconda3/lib/python3.7/site-packages/pandas/io/parsers.py\u001b[0m in \u001b[0;36mparser_f\u001b[0;34m(filepath_or_buffer, sep, delimiter, header, names, index_col, usecols, squeeze, prefix, mangle_dupe_cols, dtype, engine, converters, true_values, false_values, skipinitialspace, skiprows, skipfooter, nrows, na_values, keep_default_na, na_filter, verbose, skip_blank_lines, parse_dates, infer_datetime_format, keep_date_col, date_parser, dayfirst, cache_dates, iterator, chunksize, compression, thousands, decimal, lineterminator, quotechar, quoting, doublequote, escapechar, comment, encoding, dialect, error_bad_lines, warn_bad_lines, delim_whitespace, low_memory, memory_map, float_precision)\u001b[0m\n\u001b[1;32m    683\u001b[0m         )\n\u001b[1;32m    684\u001b[0m \u001b[0;34m\u001b[0m\u001b[0m\n\u001b[0;32m--> 685\u001b[0;31m         \u001b[0;32mreturn\u001b[0m \u001b[0m_read\u001b[0m\u001b[0;34m(\u001b[0m\u001b[0mfilepath_or_buffer\u001b[0m\u001b[0;34m,\u001b[0m \u001b[0mkwds\u001b[0m\u001b[0;34m)\u001b[0m\u001b[0;34m\u001b[0m\u001b[0;34m\u001b[0m\u001b[0m\n\u001b[0m\u001b[1;32m    686\u001b[0m \u001b[0;34m\u001b[0m\u001b[0m\n\u001b[1;32m    687\u001b[0m     \u001b[0mparser_f\u001b[0m\u001b[0;34m.\u001b[0m\u001b[0m__name__\u001b[0m \u001b[0;34m=\u001b[0m \u001b[0mname\u001b[0m\u001b[0;34m\u001b[0m\u001b[0;34m\u001b[0m\u001b[0m\n",
      "\u001b[0;32m/Applications/anaconda3/lib/python3.7/site-packages/pandas/io/parsers.py\u001b[0m in \u001b[0;36m_read\u001b[0;34m(filepath_or_buffer, kwds)\u001b[0m\n\u001b[1;32m    455\u001b[0m \u001b[0;34m\u001b[0m\u001b[0m\n\u001b[1;32m    456\u001b[0m     \u001b[0;31m# Create the parser.\u001b[0m\u001b[0;34m\u001b[0m\u001b[0;34m\u001b[0m\u001b[0;34m\u001b[0m\u001b[0m\n\u001b[0;32m--> 457\u001b[0;31m     \u001b[0mparser\u001b[0m \u001b[0;34m=\u001b[0m \u001b[0mTextFileReader\u001b[0m\u001b[0;34m(\u001b[0m\u001b[0mfp_or_buf\u001b[0m\u001b[0;34m,\u001b[0m \u001b[0;34m**\u001b[0m\u001b[0mkwds\u001b[0m\u001b[0;34m)\u001b[0m\u001b[0;34m\u001b[0m\u001b[0;34m\u001b[0m\u001b[0m\n\u001b[0m\u001b[1;32m    458\u001b[0m \u001b[0;34m\u001b[0m\u001b[0m\n\u001b[1;32m    459\u001b[0m     \u001b[0;32mif\u001b[0m \u001b[0mchunksize\u001b[0m \u001b[0;32mor\u001b[0m \u001b[0miterator\u001b[0m\u001b[0;34m:\u001b[0m\u001b[0;34m\u001b[0m\u001b[0;34m\u001b[0m\u001b[0m\n",
      "\u001b[0;32m/Applications/anaconda3/lib/python3.7/site-packages/pandas/io/parsers.py\u001b[0m in \u001b[0;36m__init__\u001b[0;34m(self, f, engine, **kwds)\u001b[0m\n\u001b[1;32m    893\u001b[0m             \u001b[0mself\u001b[0m\u001b[0;34m.\u001b[0m\u001b[0moptions\u001b[0m\u001b[0;34m[\u001b[0m\u001b[0;34m\"has_index_names\"\u001b[0m\u001b[0;34m]\u001b[0m \u001b[0;34m=\u001b[0m \u001b[0mkwds\u001b[0m\u001b[0;34m[\u001b[0m\u001b[0;34m\"has_index_names\"\u001b[0m\u001b[0;34m]\u001b[0m\u001b[0;34m\u001b[0m\u001b[0;34m\u001b[0m\u001b[0m\n\u001b[1;32m    894\u001b[0m \u001b[0;34m\u001b[0m\u001b[0m\n\u001b[0;32m--> 895\u001b[0;31m         \u001b[0mself\u001b[0m\u001b[0;34m.\u001b[0m\u001b[0m_make_engine\u001b[0m\u001b[0;34m(\u001b[0m\u001b[0mself\u001b[0m\u001b[0;34m.\u001b[0m\u001b[0mengine\u001b[0m\u001b[0;34m)\u001b[0m\u001b[0;34m\u001b[0m\u001b[0;34m\u001b[0m\u001b[0m\n\u001b[0m\u001b[1;32m    896\u001b[0m \u001b[0;34m\u001b[0m\u001b[0m\n\u001b[1;32m    897\u001b[0m     \u001b[0;32mdef\u001b[0m \u001b[0mclose\u001b[0m\u001b[0;34m(\u001b[0m\u001b[0mself\u001b[0m\u001b[0;34m)\u001b[0m\u001b[0;34m:\u001b[0m\u001b[0;34m\u001b[0m\u001b[0;34m\u001b[0m\u001b[0m\n",
      "\u001b[0;32m/Applications/anaconda3/lib/python3.7/site-packages/pandas/io/parsers.py\u001b[0m in \u001b[0;36m_make_engine\u001b[0;34m(self, engine)\u001b[0m\n\u001b[1;32m   1133\u001b[0m     \u001b[0;32mdef\u001b[0m \u001b[0m_make_engine\u001b[0m\u001b[0;34m(\u001b[0m\u001b[0mself\u001b[0m\u001b[0;34m,\u001b[0m \u001b[0mengine\u001b[0m\u001b[0;34m=\u001b[0m\u001b[0;34m\"c\"\u001b[0m\u001b[0;34m)\u001b[0m\u001b[0;34m:\u001b[0m\u001b[0;34m\u001b[0m\u001b[0;34m\u001b[0m\u001b[0m\n\u001b[1;32m   1134\u001b[0m         \u001b[0;32mif\u001b[0m \u001b[0mengine\u001b[0m \u001b[0;34m==\u001b[0m \u001b[0;34m\"c\"\u001b[0m\u001b[0;34m:\u001b[0m\u001b[0;34m\u001b[0m\u001b[0;34m\u001b[0m\u001b[0m\n\u001b[0;32m-> 1135\u001b[0;31m             \u001b[0mself\u001b[0m\u001b[0;34m.\u001b[0m\u001b[0m_engine\u001b[0m \u001b[0;34m=\u001b[0m \u001b[0mCParserWrapper\u001b[0m\u001b[0;34m(\u001b[0m\u001b[0mself\u001b[0m\u001b[0;34m.\u001b[0m\u001b[0mf\u001b[0m\u001b[0;34m,\u001b[0m \u001b[0;34m**\u001b[0m\u001b[0mself\u001b[0m\u001b[0;34m.\u001b[0m\u001b[0moptions\u001b[0m\u001b[0;34m)\u001b[0m\u001b[0;34m\u001b[0m\u001b[0;34m\u001b[0m\u001b[0m\n\u001b[0m\u001b[1;32m   1136\u001b[0m         \u001b[0;32melse\u001b[0m\u001b[0;34m:\u001b[0m\u001b[0;34m\u001b[0m\u001b[0;34m\u001b[0m\u001b[0m\n\u001b[1;32m   1137\u001b[0m             \u001b[0;32mif\u001b[0m \u001b[0mengine\u001b[0m \u001b[0;34m==\u001b[0m \u001b[0;34m\"python\"\u001b[0m\u001b[0;34m:\u001b[0m\u001b[0;34m\u001b[0m\u001b[0;34m\u001b[0m\u001b[0m\n",
      "\u001b[0;32m/Applications/anaconda3/lib/python3.7/site-packages/pandas/io/parsers.py\u001b[0m in \u001b[0;36m__init__\u001b[0;34m(self, src, **kwds)\u001b[0m\n\u001b[1;32m   1915\u001b[0m         \u001b[0mkwds\u001b[0m\u001b[0;34m[\u001b[0m\u001b[0;34m\"usecols\"\u001b[0m\u001b[0;34m]\u001b[0m \u001b[0;34m=\u001b[0m \u001b[0mself\u001b[0m\u001b[0;34m.\u001b[0m\u001b[0musecols\u001b[0m\u001b[0;34m\u001b[0m\u001b[0;34m\u001b[0m\u001b[0m\n\u001b[1;32m   1916\u001b[0m \u001b[0;34m\u001b[0m\u001b[0m\n\u001b[0;32m-> 1917\u001b[0;31m         \u001b[0mself\u001b[0m\u001b[0;34m.\u001b[0m\u001b[0m_reader\u001b[0m \u001b[0;34m=\u001b[0m \u001b[0mparsers\u001b[0m\u001b[0;34m.\u001b[0m\u001b[0mTextReader\u001b[0m\u001b[0;34m(\u001b[0m\u001b[0msrc\u001b[0m\u001b[0;34m,\u001b[0m \u001b[0;34m**\u001b[0m\u001b[0mkwds\u001b[0m\u001b[0;34m)\u001b[0m\u001b[0;34m\u001b[0m\u001b[0;34m\u001b[0m\u001b[0m\n\u001b[0m\u001b[1;32m   1918\u001b[0m         \u001b[0mself\u001b[0m\u001b[0;34m.\u001b[0m\u001b[0munnamed_cols\u001b[0m \u001b[0;34m=\u001b[0m \u001b[0mself\u001b[0m\u001b[0;34m.\u001b[0m\u001b[0m_reader\u001b[0m\u001b[0;34m.\u001b[0m\u001b[0munnamed_cols\u001b[0m\u001b[0;34m\u001b[0m\u001b[0;34m\u001b[0m\u001b[0m\n\u001b[1;32m   1919\u001b[0m \u001b[0;34m\u001b[0m\u001b[0m\n",
      "\u001b[0;32mpandas/_libs/parsers.pyx\u001b[0m in \u001b[0;36mpandas._libs.parsers.TextReader.__cinit__\u001b[0;34m()\u001b[0m\n",
      "\u001b[0;32mpandas/_libs/parsers.pyx\u001b[0m in \u001b[0;36mpandas._libs.parsers.TextReader._setup_parser_source\u001b[0;34m()\u001b[0m\n",
      "\u001b[0;31mFileNotFoundError\u001b[0m: [Errno 2] File b'housepricedata.csv' does not exist: b'housepricedata.csv'"
     ]
    }
   ],
   "source": [
    "df = pd.read_csv('housepricedata.csv')"
   ]
  },
  {
   "cell_type": "code",
   "execution_count": 3,
   "metadata": {},
   "outputs": [
    {
     "ename": "ImportError",
     "evalue": "cannot import name 'path' from 'pathlib' (/Applications/anaconda3/lib/python3.7/pathlib.py)",
     "output_type": "error",
     "traceback": [
      "\u001b[0;31m---------------------------------------------------------------------------\u001b[0m",
      "\u001b[0;31mImportError\u001b[0m                               Traceback (most recent call last)",
      "\u001b[0;32m<ipython-input-3-c24c00b4b0c7>\u001b[0m in \u001b[0;36m<module>\u001b[0;34m\u001b[0m\n\u001b[0;32m----> 1\u001b[0;31m \u001b[0;32mfrom\u001b[0m \u001b[0mpathlib\u001b[0m \u001b[0;32mimport\u001b[0m \u001b[0mpath\u001b[0m\u001b[0;34m\u001b[0m\u001b[0;34m\u001b[0m\u001b[0m\n\u001b[0m",
      "\u001b[0;31mImportError\u001b[0m: cannot import name 'path' from 'pathlib' (/Applications/anaconda3/lib/python3.7/pathlib.py)"
     ]
    }
   ],
   "source": [
    "from pathlib import path"
   ]
  },
  {
   "cell_type": "code",
   "execution_count": 4,
   "metadata": {},
   "outputs": [
    {
     "name": "stdout",
     "output_type": "stream",
     "text": [
      "Collecting package metadata (current_repodata.json): done\n",
      "Solving environment: done\n",
      "\n",
      "## Package Plan ##\n",
      "\n",
      "  environment location: /Applications/anaconda3\n",
      "\n",
      "  added / updated specs:\n",
      "    - pathlib\n",
      "\n",
      "\n",
      "The following packages will be downloaded:\n",
      "\n",
      "    package                    |            build\n",
      "    ---------------------------|-----------------\n",
      "    pathlib-1.0.1              |           py37_1          29 KB\n",
      "    ------------------------------------------------------------\n",
      "                                           Total:          29 KB\n",
      "\n",
      "The following NEW packages will be INSTALLED:\n",
      "\n",
      "  pathlib            pkgs/main/osx-64::pathlib-1.0.1-py37_1\n",
      "\n",
      "\n",
      "\n",
      "Downloading and Extracting Packages\n",
      "pathlib-1.0.1        | 29 KB     | ##################################### | 100% \n",
      "Preparing transaction: done\n",
      "Verifying transaction: done\n",
      "Executing transaction: done\n",
      "\n",
      "Note: you may need to restart the kernel to use updated packages.\n"
     ]
    }
   ],
   "source": [
    "conda install pathlib"
   ]
  },
  {
   "cell_type": "code",
   "execution_count": 5,
   "metadata": {},
   "outputs": [
    {
     "ename": "ImportError",
     "evalue": "cannot import name 'path' from 'pathlib' (/Applications/anaconda3/lib/python3.7/pathlib.py)",
     "output_type": "error",
     "traceback": [
      "\u001b[0;31m---------------------------------------------------------------------------\u001b[0m",
      "\u001b[0;31mImportError\u001b[0m                               Traceback (most recent call last)",
      "\u001b[0;32m<ipython-input-5-c24c00b4b0c7>\u001b[0m in \u001b[0;36m<module>\u001b[0;34m\u001b[0m\n\u001b[0;32m----> 1\u001b[0;31m \u001b[0;32mfrom\u001b[0m \u001b[0mpathlib\u001b[0m \u001b[0;32mimport\u001b[0m \u001b[0mpath\u001b[0m\u001b[0;34m\u001b[0m\u001b[0;34m\u001b[0m\u001b[0m\n\u001b[0m",
      "\u001b[0;31mImportError\u001b[0m: cannot import name 'path' from 'pathlib' (/Applications/anaconda3/lib/python3.7/pathlib.py)"
     ]
    }
   ],
   "source": [
    "from pathlib import path"
   ]
  },
  {
   "cell_type": "code",
   "execution_count": 6,
   "metadata": {},
   "outputs": [],
   "source": [
    "from pathlib import Path"
   ]
  },
  {
   "cell_type": "code",
   "execution_count": 16,
   "metadata": {},
   "outputs": [],
   "source": [
    "data_folder = Path(\"/Users/saileshraturi/Documents/GitHub/Prediction using Neural Network\")"
   ]
  },
  {
   "cell_type": "code",
   "execution_count": 11,
   "metadata": {},
   "outputs": [],
   "source": [
    "file_to_open = data_folder / \"housepricedata.csv\""
   ]
  },
  {
   "cell_type": "code",
   "execution_count": 14,
   "metadata": {},
   "outputs": [],
   "source": [
    "f = open(file_to_open)"
   ]
  },
  {
   "cell_type": "code",
   "execution_count": 19,
   "metadata": {},
   "outputs": [],
   "source": [
    "df = pd.read_csv(file_to_open)\n"
   ]
  },
  {
   "cell_type": "code",
   "execution_count": 20,
   "metadata": {},
   "outputs": [
    {
     "data": {
      "text/html": [
       "<div>\n",
       "<style scoped>\n",
       "    .dataframe tbody tr th:only-of-type {\n",
       "        vertical-align: middle;\n",
       "    }\n",
       "\n",
       "    .dataframe tbody tr th {\n",
       "        vertical-align: top;\n",
       "    }\n",
       "\n",
       "    .dataframe thead th {\n",
       "        text-align: right;\n",
       "    }\n",
       "</style>\n",
       "<table border=\"1\" class=\"dataframe\">\n",
       "  <thead>\n",
       "    <tr style=\"text-align: right;\">\n",
       "      <th></th>\n",
       "      <th>LotArea</th>\n",
       "      <th>OverallQual</th>\n",
       "      <th>OverallCond</th>\n",
       "      <th>TotalBsmtSF</th>\n",
       "      <th>FullBath</th>\n",
       "      <th>HalfBath</th>\n",
       "      <th>BedroomAbvGr</th>\n",
       "      <th>TotRmsAbvGrd</th>\n",
       "      <th>Fireplaces</th>\n",
       "      <th>GarageArea</th>\n",
       "      <th>AboveMedianPrice</th>\n",
       "    </tr>\n",
       "  </thead>\n",
       "  <tbody>\n",
       "    <tr>\n",
       "      <td>0</td>\n",
       "      <td>8450</td>\n",
       "      <td>7</td>\n",
       "      <td>5</td>\n",
       "      <td>856</td>\n",
       "      <td>2</td>\n",
       "      <td>1</td>\n",
       "      <td>3</td>\n",
       "      <td>8</td>\n",
       "      <td>0</td>\n",
       "      <td>548</td>\n",
       "      <td>1</td>\n",
       "    </tr>\n",
       "    <tr>\n",
       "      <td>1</td>\n",
       "      <td>9600</td>\n",
       "      <td>6</td>\n",
       "      <td>8</td>\n",
       "      <td>1262</td>\n",
       "      <td>2</td>\n",
       "      <td>0</td>\n",
       "      <td>3</td>\n",
       "      <td>6</td>\n",
       "      <td>1</td>\n",
       "      <td>460</td>\n",
       "      <td>1</td>\n",
       "    </tr>\n",
       "    <tr>\n",
       "      <td>2</td>\n",
       "      <td>11250</td>\n",
       "      <td>7</td>\n",
       "      <td>5</td>\n",
       "      <td>920</td>\n",
       "      <td>2</td>\n",
       "      <td>1</td>\n",
       "      <td>3</td>\n",
       "      <td>6</td>\n",
       "      <td>1</td>\n",
       "      <td>608</td>\n",
       "      <td>1</td>\n",
       "    </tr>\n",
       "    <tr>\n",
       "      <td>3</td>\n",
       "      <td>9550</td>\n",
       "      <td>7</td>\n",
       "      <td>5</td>\n",
       "      <td>756</td>\n",
       "      <td>1</td>\n",
       "      <td>0</td>\n",
       "      <td>3</td>\n",
       "      <td>7</td>\n",
       "      <td>1</td>\n",
       "      <td>642</td>\n",
       "      <td>0</td>\n",
       "    </tr>\n",
       "    <tr>\n",
       "      <td>4</td>\n",
       "      <td>14260</td>\n",
       "      <td>8</td>\n",
       "      <td>5</td>\n",
       "      <td>1145</td>\n",
       "      <td>2</td>\n",
       "      <td>1</td>\n",
       "      <td>4</td>\n",
       "      <td>9</td>\n",
       "      <td>1</td>\n",
       "      <td>836</td>\n",
       "      <td>1</td>\n",
       "    </tr>\n",
       "    <tr>\n",
       "      <td>...</td>\n",
       "      <td>...</td>\n",
       "      <td>...</td>\n",
       "      <td>...</td>\n",
       "      <td>...</td>\n",
       "      <td>...</td>\n",
       "      <td>...</td>\n",
       "      <td>...</td>\n",
       "      <td>...</td>\n",
       "      <td>...</td>\n",
       "      <td>...</td>\n",
       "      <td>...</td>\n",
       "    </tr>\n",
       "    <tr>\n",
       "      <td>1455</td>\n",
       "      <td>7917</td>\n",
       "      <td>6</td>\n",
       "      <td>5</td>\n",
       "      <td>953</td>\n",
       "      <td>2</td>\n",
       "      <td>1</td>\n",
       "      <td>3</td>\n",
       "      <td>7</td>\n",
       "      <td>1</td>\n",
       "      <td>460</td>\n",
       "      <td>1</td>\n",
       "    </tr>\n",
       "    <tr>\n",
       "      <td>1456</td>\n",
       "      <td>13175</td>\n",
       "      <td>6</td>\n",
       "      <td>6</td>\n",
       "      <td>1542</td>\n",
       "      <td>2</td>\n",
       "      <td>0</td>\n",
       "      <td>3</td>\n",
       "      <td>7</td>\n",
       "      <td>2</td>\n",
       "      <td>500</td>\n",
       "      <td>1</td>\n",
       "    </tr>\n",
       "    <tr>\n",
       "      <td>1457</td>\n",
       "      <td>9042</td>\n",
       "      <td>7</td>\n",
       "      <td>9</td>\n",
       "      <td>1152</td>\n",
       "      <td>2</td>\n",
       "      <td>0</td>\n",
       "      <td>4</td>\n",
       "      <td>9</td>\n",
       "      <td>2</td>\n",
       "      <td>252</td>\n",
       "      <td>1</td>\n",
       "    </tr>\n",
       "    <tr>\n",
       "      <td>1458</td>\n",
       "      <td>9717</td>\n",
       "      <td>5</td>\n",
       "      <td>6</td>\n",
       "      <td>1078</td>\n",
       "      <td>1</td>\n",
       "      <td>0</td>\n",
       "      <td>2</td>\n",
       "      <td>5</td>\n",
       "      <td>0</td>\n",
       "      <td>240</td>\n",
       "      <td>0</td>\n",
       "    </tr>\n",
       "    <tr>\n",
       "      <td>1459</td>\n",
       "      <td>9937</td>\n",
       "      <td>5</td>\n",
       "      <td>6</td>\n",
       "      <td>1256</td>\n",
       "      <td>1</td>\n",
       "      <td>1</td>\n",
       "      <td>3</td>\n",
       "      <td>6</td>\n",
       "      <td>0</td>\n",
       "      <td>276</td>\n",
       "      <td>0</td>\n",
       "    </tr>\n",
       "  </tbody>\n",
       "</table>\n",
       "<p>1460 rows × 11 columns</p>\n",
       "</div>"
      ],
      "text/plain": [
       "      LotArea  OverallQual  OverallCond  TotalBsmtSF  FullBath  HalfBath  \\\n",
       "0        8450            7            5          856         2         1   \n",
       "1        9600            6            8         1262         2         0   \n",
       "2       11250            7            5          920         2         1   \n",
       "3        9550            7            5          756         1         0   \n",
       "4       14260            8            5         1145         2         1   \n",
       "...       ...          ...          ...          ...       ...       ...   \n",
       "1455     7917            6            5          953         2         1   \n",
       "1456    13175            6            6         1542         2         0   \n",
       "1457     9042            7            9         1152         2         0   \n",
       "1458     9717            5            6         1078         1         0   \n",
       "1459     9937            5            6         1256         1         1   \n",
       "\n",
       "      BedroomAbvGr  TotRmsAbvGrd  Fireplaces  GarageArea  AboveMedianPrice  \n",
       "0                3             8           0         548                 1  \n",
       "1                3             6           1         460                 1  \n",
       "2                3             6           1         608                 1  \n",
       "3                3             7           1         642                 0  \n",
       "4                4             9           1         836                 1  \n",
       "...            ...           ...         ...         ...               ...  \n",
       "1455             3             7           1         460                 1  \n",
       "1456             3             7           2         500                 1  \n",
       "1457             4             9           2         252                 1  \n",
       "1458             2             5           0         240                 0  \n",
       "1459             3             6           0         276                 0  \n",
       "\n",
       "[1460 rows x 11 columns]"
      ]
     },
     "execution_count": 20,
     "metadata": {},
     "output_type": "execute_result"
    }
   ],
   "source": [
    "df"
   ]
  },
  {
   "cell_type": "code",
   "execution_count": 21,
   "metadata": {},
   "outputs": [
    {
     "data": {
      "text/plain": [
       "'Now convert the panda dataset into array'"
      ]
     },
     "execution_count": 21,
     "metadata": {},
     "output_type": "execute_result"
    }
   ],
   "source": [
    "\"Now convert the panda dataset into array\""
   ]
  },
  {
   "cell_type": "code",
   "execution_count": 22,
   "metadata": {},
   "outputs": [],
   "source": [
    "dataset = df.values"
   ]
  },
  {
   "cell_type": "code",
   "execution_count": 23,
   "metadata": {},
   "outputs": [
    {
     "data": {
      "text/plain": [
       "array([[ 8450,     7,     5, ...,     0,   548,     1],\n",
       "       [ 9600,     6,     8, ...,     1,   460,     1],\n",
       "       [11250,     7,     5, ...,     1,   608,     1],\n",
       "       ...,\n",
       "       [ 9042,     7,     9, ...,     2,   252,     1],\n",
       "       [ 9717,     5,     6, ...,     0,   240,     0],\n",
       "       [ 9937,     5,     6, ...,     0,   276,     0]])"
      ]
     },
     "execution_count": 23,
     "metadata": {},
     "output_type": "execute_result"
    }
   ],
   "source": [
    "dataset"
   ]
  },
  {
   "cell_type": "code",
   "execution_count": 25,
   "metadata": {},
   "outputs": [
    {
     "data": {
      "text/plain": [
       "'Now split the dataset into independent and dependent variable'"
      ]
     },
     "execution_count": 25,
     "metadata": {},
     "output_type": "execute_result"
    }
   ],
   "source": [
    "\"Now split the dataset into independent and dependent variable\""
   ]
  },
  {
   "cell_type": "code",
   "execution_count": 26,
   "metadata": {},
   "outputs": [],
   "source": [
    "X = dataset[:,0:10]\n",
    "Y = dataset[:,10]"
   ]
  },
  {
   "cell_type": "code",
   "execution_count": 28,
   "metadata": {},
   "outputs": [
    {
     "data": {
      "text/plain": [
       "'Normalization of data - min-max scaler scales data between 0 and 1 to fit in Normalization curve'"
      ]
     },
     "execution_count": 28,
     "metadata": {},
     "output_type": "execute_result"
    }
   ],
   "source": [
    "'Normalization of data - min-max scaler scales data between 0 and 1 to fit in Normalization curve'"
   ]
  },
  {
   "cell_type": "code",
   "execution_count": 29,
   "metadata": {},
   "outputs": [],
   "source": [
    "from sklearn import preprocessing"
   ]
  },
  {
   "cell_type": "code",
   "execution_count": 30,
   "metadata": {},
   "outputs": [],
   "source": [
    "min_max_scaler = preprocessing.MinMaxScaler()\n",
    "X_scale = min_max_scaler.fit_transform(X)"
   ]
  },
  {
   "cell_type": "code",
   "execution_count": 31,
   "metadata": {},
   "outputs": [
    {
     "data": {
      "text/plain": [
       "array([[0.0334198 , 0.66666667, 0.5       , ..., 0.5       , 0.        ,\n",
       "        0.3864598 ],\n",
       "       [0.03879502, 0.55555556, 0.875     , ..., 0.33333333, 0.33333333,\n",
       "        0.32440056],\n",
       "       [0.04650728, 0.66666667, 0.5       , ..., 0.33333333, 0.33333333,\n",
       "        0.42877292],\n",
       "       ...,\n",
       "       [0.03618687, 0.66666667, 1.        , ..., 0.58333333, 0.66666667,\n",
       "        0.17771509],\n",
       "       [0.03934189, 0.44444444, 0.625     , ..., 0.25      , 0.        ,\n",
       "        0.16925247],\n",
       "       [0.04037019, 0.44444444, 0.625     , ..., 0.33333333, 0.        ,\n",
       "        0.19464034]])"
      ]
     },
     "execution_count": 31,
     "metadata": {},
     "output_type": "execute_result"
    }
   ],
   "source": [
    "X_scale"
   ]
  },
  {
   "cell_type": "code",
   "execution_count": 32,
   "metadata": {},
   "outputs": [
    {
     "data": {
      "text/plain": [
       "'splitting the dataset into training, validation and test dataset using train_test_split'"
      ]
     },
     "execution_count": 32,
     "metadata": {},
     "output_type": "execute_result"
    }
   ],
   "source": [
    "'splitting the dataset into training, validation and test dataset using train_test_split'"
   ]
  },
  {
   "cell_type": "code",
   "execution_count": 35,
   "metadata": {},
   "outputs": [],
   "source": [
    "X_train,X_val_and_test,Y_train,Y_val_and_test = train_test_split(X_scale,Y,test_size =0.3)"
   ]
  },
  {
   "cell_type": "code",
   "execution_count": 34,
   "metadata": {},
   "outputs": [],
   "source": [
    "from sklearn.model_selection import train_test_split"
   ]
  },
  {
   "cell_type": "code",
   "execution_count": 39,
   "metadata": {},
   "outputs": [],
   "source": [
    "X_Val,X_text,Y_Val,Y_test = train_test_split(X_val_and_test,Y_val_and_test,test_size = 0.5)"
   ]
  },
  {
   "cell_type": "code",
   "execution_count": 40,
   "metadata": {},
   "outputs": [
    {
     "name": "stdout",
     "output_type": "stream",
     "text": [
      "(1022, 10) (219, 10) (219, 10) (1022,) (219,) (219,)\n"
     ]
    }
   ],
   "source": [
    "print(X_train.shape,X_Val.shape,X_text.shape,Y_train.shape,Y_Val.shape,Y_test.shape)"
   ]
  },
  {
   "cell_type": "code",
   "execution_count": 41,
   "metadata": {},
   "outputs": [
    {
     "data": {
      "text/plain": [
       "'Using Keras for building model architecture'"
      ]
     },
     "execution_count": 41,
     "metadata": {},
     "output_type": "execute_result"
    }
   ],
   "source": [
    "'Using Keras for building model architecture'"
   ]
  },
  {
   "cell_type": "code",
   "execution_count": 42,
   "metadata": {},
   "outputs": [
    {
     "name": "stderr",
     "output_type": "stream",
     "text": [
      "Using TensorFlow backend.\n"
     ]
    }
   ],
   "source": [
    "from keras.models import Sequential\n",
    "from keras.layers import Dense"
   ]
  },
  {
   "cell_type": "code",
   "execution_count": 81,
   "metadata": {},
   "outputs": [
    {
     "data": {
      "text/plain": [
       "'Using sequential model - layers in sequence - Batch size 32 - No of training samples'"
      ]
     },
     "execution_count": 81,
     "metadata": {},
     "output_type": "execute_result"
    }
   ],
   "source": [
    "'Using sequential model - layers in sequence - Batch size 32 - No of training samples'"
   ]
  },
  {
   "cell_type": "code",
   "execution_count": 46,
   "metadata": {},
   "outputs": [],
   "source": [
    "model = Sequential([\n",
    "    Dense(32, activation = 'relu', input_shape = (10,)),\n",
    "    Dense(32, activation = 'relu'),\n",
    "    Dense(1,  activation = 'sigmoid'),\n",
    "                   ])"
   ]
  },
  {
   "cell_type": "code",
   "execution_count": 82,
   "metadata": {},
   "outputs": [
    {
     "data": {
      "text/plain": [
       "'Input layer - 32 neurons Hidden layer - 32 neurons Output layer - 1 neuron'"
      ]
     },
     "execution_count": 82,
     "metadata": {},
     "output_type": "execute_result"
    }
   ],
   "source": [
    "\"Input layer - 32 neurons Hidden layer - 32 neurons Output layer - 1 neuron\""
   ]
  },
  {
   "cell_type": "code",
   "execution_count": 89,
   "metadata": {},
   "outputs": [
    {
     "data": {
      "text/plain": [
       "'optimizing func - stochastic gradient descent, loss function - binary crossentropy(when there are only two labels(0,1), metric - accuracy'"
      ]
     },
     "execution_count": 89,
     "metadata": {},
     "output_type": "execute_result"
    }
   ],
   "source": [
    "'optimizing func - stochastic gradient descent, loss function - binary crossentropy(when there are only two labels(0,1), metric - accuracy'"
   ]
  },
  {
   "cell_type": "code",
   "execution_count": 53,
   "metadata": {},
   "outputs": [],
   "source": [
    "model.compile(optimizer = 'sgd',\n",
    "              loss = 'binary_crossentropy',\n",
    "              metrics = ['accuracy'])\n",
    "             "
   ]
  },
  {
   "cell_type": "code",
   "execution_count": 72,
   "metadata": {},
   "outputs": [
    {
     "name": "stdout",
     "output_type": "stream",
     "text": [
      "Train on 1022 samples, validate on 219 samples\n",
      "Epoch 1/100\n",
      "1022/1022 [==============================] - 0s 199us/step - loss: 0.2952 - accuracy: 0.8816 - val_loss: 0.2572 - val_accuracy: 0.8721\n",
      "Epoch 2/100\n",
      "1022/1022 [==============================] - 0s 188us/step - loss: 0.2947 - accuracy: 0.8826 - val_loss: 0.2564 - val_accuracy: 0.8767\n",
      "Epoch 3/100\n",
      "1022/1022 [==============================] - 0s 181us/step - loss: 0.2938 - accuracy: 0.8826 - val_loss: 0.2560 - val_accuracy: 0.8721\n",
      "Epoch 4/100\n",
      "1022/1022 [==============================] - 0s 177us/step - loss: 0.2923 - accuracy: 0.8816 - val_loss: 0.2577 - val_accuracy: 0.8813\n",
      "Epoch 5/100\n",
      "1022/1022 [==============================] - 0s 163us/step - loss: 0.2923 - accuracy: 0.8806 - val_loss: 0.2548 - val_accuracy: 0.8767\n",
      "Epoch 6/100\n",
      "1022/1022 [==============================] - 0s 182us/step - loss: 0.2921 - accuracy: 0.8816 - val_loss: 0.2547 - val_accuracy: 0.8813\n",
      "Epoch 7/100\n",
      "1022/1022 [==============================] - 0s 158us/step - loss: 0.2911 - accuracy: 0.8836 - val_loss: 0.2533 - val_accuracy: 0.8813\n",
      "Epoch 8/100\n",
      "1022/1022 [==============================] - 0s 159us/step - loss: 0.2907 - accuracy: 0.8855 - val_loss: 0.2526 - val_accuracy: 0.8813\n",
      "Epoch 9/100\n",
      "1022/1022 [==============================] - 0s 219us/step - loss: 0.2897 - accuracy: 0.8826 - val_loss: 0.2537 - val_accuracy: 0.8813\n",
      "Epoch 10/100\n",
      "1022/1022 [==============================] - 0s 361us/step - loss: 0.2891 - accuracy: 0.8865 - val_loss: 0.2526 - val_accuracy: 0.8858\n",
      "Epoch 11/100\n",
      "1022/1022 [==============================] - 0s 313us/step - loss: 0.2886 - accuracy: 0.8836 - val_loss: 0.2511 - val_accuracy: 0.8858\n",
      "Epoch 12/100\n",
      "1022/1022 [==============================] - 0s 162us/step - loss: 0.2881 - accuracy: 0.8875 - val_loss: 0.2512 - val_accuracy: 0.8813\n",
      "Epoch 13/100\n",
      "1022/1022 [==============================] - 0s 140us/step - loss: 0.2871 - accuracy: 0.8826 - val_loss: 0.2516 - val_accuracy: 0.8813\n",
      "Epoch 14/100\n",
      "1022/1022 [==============================] - 0s 147us/step - loss: 0.2868 - accuracy: 0.8816 - val_loss: 0.2504 - val_accuracy: 0.8813\n",
      "Epoch 15/100\n",
      "1022/1022 [==============================] - 0s 153us/step - loss: 0.2869 - accuracy: 0.8816 - val_loss: 0.2505 - val_accuracy: 0.8813\n",
      "Epoch 16/100\n",
      "1022/1022 [==============================] - 0s 165us/step - loss: 0.2853 - accuracy: 0.8845 - val_loss: 0.2509 - val_accuracy: 0.8858\n",
      "Epoch 17/100\n",
      "1022/1022 [==============================] - 0s 153us/step - loss: 0.2845 - accuracy: 0.8836 - val_loss: 0.2486 - val_accuracy: 0.8950\n",
      "Epoch 18/100\n",
      "1022/1022 [==============================] - 0s 178us/step - loss: 0.2858 - accuracy: 0.8845 - val_loss: 0.2485 - val_accuracy: 0.8858\n",
      "Epoch 19/100\n",
      "1022/1022 [==============================] - 0s 250us/step - loss: 0.2844 - accuracy: 0.8855 - val_loss: 0.2479 - val_accuracy: 0.8904\n",
      "Epoch 20/100\n",
      "1022/1022 [==============================] - 0s 350us/step - loss: 0.2840 - accuracy: 0.8855 - val_loss: 0.2473 - val_accuracy: 0.8950\n",
      "Epoch 21/100\n",
      "1022/1022 [==============================] - 0s 280us/step - loss: 0.2835 - accuracy: 0.8875 - val_loss: 0.2473 - val_accuracy: 0.8904\n",
      "Epoch 22/100\n",
      "1022/1022 [==============================] - 0s 158us/step - loss: 0.2829 - accuracy: 0.8845 - val_loss: 0.2481 - val_accuracy: 0.8813\n",
      "Epoch 23/100\n",
      "1022/1022 [==============================] - 0s 138us/step - loss: 0.2831 - accuracy: 0.8845 - val_loss: 0.2466 - val_accuracy: 0.8904\n",
      "Epoch 24/100\n",
      "1022/1022 [==============================] - 0s 137us/step - loss: 0.2817 - accuracy: 0.8845 - val_loss: 0.2479 - val_accuracy: 0.8813\n",
      "Epoch 25/100\n",
      "1022/1022 [==============================] - 0s 137us/step - loss: 0.2819 - accuracy: 0.8855 - val_loss: 0.2467 - val_accuracy: 0.8858\n",
      "Epoch 26/100\n",
      "1022/1022 [==============================] - 0s 165us/step - loss: 0.2812 - accuracy: 0.8865 - val_loss: 0.2460 - val_accuracy: 0.8858\n",
      "Epoch 27/100\n",
      "1022/1022 [==============================] - 0s 135us/step - loss: 0.2807 - accuracy: 0.8865 - val_loss: 0.2455 - val_accuracy: 0.8904\n",
      "Epoch 28/100\n",
      "1022/1022 [==============================] - 0s 136us/step - loss: 0.2796 - accuracy: 0.8845 - val_loss: 0.2474 - val_accuracy: 0.8813\n",
      "Epoch 29/100\n",
      "1022/1022 [==============================] - 0s 135us/step - loss: 0.2800 - accuracy: 0.8845 - val_loss: 0.2466 - val_accuracy: 0.8813\n",
      "Epoch 30/100\n",
      "1022/1022 [==============================] - 0s 136us/step - loss: 0.2795 - accuracy: 0.8855 - val_loss: 0.2444 - val_accuracy: 0.8950\n",
      "Epoch 31/100\n",
      "1022/1022 [==============================] - 0s 139us/step - loss: 0.2785 - accuracy: 0.8875 - val_loss: 0.2441 - val_accuracy: 0.8950\n",
      "Epoch 32/100\n",
      "1022/1022 [==============================] - 0s 156us/step - loss: 0.2784 - accuracy: 0.8904 - val_loss: 0.2464 - val_accuracy: 0.8767\n",
      "Epoch 33/100\n",
      "1022/1022 [==============================] - 0s 137us/step - loss: 0.2784 - accuracy: 0.8855 - val_loss: 0.2449 - val_accuracy: 0.8858\n",
      "Epoch 34/100\n",
      "1022/1022 [==============================] - 0s 144us/step - loss: 0.2784 - accuracy: 0.8845 - val_loss: 0.2448 - val_accuracy: 0.8858\n",
      "Epoch 35/100\n",
      "1022/1022 [==============================] - 0s 137us/step - loss: 0.2776 - accuracy: 0.8865 - val_loss: 0.2435 - val_accuracy: 0.8950\n",
      "Epoch 36/100\n",
      "1022/1022 [==============================] - 0s 135us/step - loss: 0.2773 - accuracy: 0.8836 - val_loss: 0.2431 - val_accuracy: 0.8950\n",
      "Epoch 37/100\n",
      "1022/1022 [==============================] - 0s 141us/step - loss: 0.2766 - accuracy: 0.8885 - val_loss: 0.2436 - val_accuracy: 0.8858\n",
      "Epoch 38/100\n",
      "1022/1022 [==============================] - 0s 158us/step - loss: 0.2760 - accuracy: 0.8885 - val_loss: 0.2426 - val_accuracy: 0.8950\n",
      "Epoch 39/100\n",
      "1022/1022 [==============================] - 0s 135us/step - loss: 0.2753 - accuracy: 0.8875 - val_loss: 0.2425 - val_accuracy: 0.8995\n",
      "Epoch 40/100\n",
      "1022/1022 [==============================] - 0s 153us/step - loss: 0.2758 - accuracy: 0.8836 - val_loss: 0.2422 - val_accuracy: 0.8950\n",
      "Epoch 41/100\n",
      "1022/1022 [==============================] - 0s 139us/step - loss: 0.2750 - accuracy: 0.8845 - val_loss: 0.2431 - val_accuracy: 0.8858\n",
      "Epoch 42/100\n",
      "1022/1022 [==============================] - 0s 163us/step - loss: 0.2747 - accuracy: 0.8894 - val_loss: 0.2420 - val_accuracy: 0.8950\n",
      "Epoch 43/100\n",
      "1022/1022 [==============================] - 0s 135us/step - loss: 0.2741 - accuracy: 0.8904 - val_loss: 0.2435 - val_accuracy: 0.8813\n",
      "Epoch 44/100\n",
      "1022/1022 [==============================] - 0s 148us/step - loss: 0.2739 - accuracy: 0.8855 - val_loss: 0.2427 - val_accuracy: 0.8904\n",
      "Epoch 45/100\n",
      "1022/1022 [==============================] - 0s 163us/step - loss: 0.2745 - accuracy: 0.8865 - val_loss: 0.2426 - val_accuracy: 0.8904\n",
      "Epoch 46/100\n",
      "1022/1022 [==============================] - 0s 166us/step - loss: 0.2737 - accuracy: 0.8855 - val_loss: 0.2417 - val_accuracy: 0.8950\n",
      "Epoch 47/100\n",
      "1022/1022 [==============================] - 0s 172us/step - loss: 0.2731 - accuracy: 0.8865 - val_loss: 0.2411 - val_accuracy: 0.8995\n",
      "Epoch 48/100\n",
      "1022/1022 [==============================] - 0s 178us/step - loss: 0.2736 - accuracy: 0.8865 - val_loss: 0.2414 - val_accuracy: 0.8950\n",
      "Epoch 49/100\n",
      "1022/1022 [==============================] - 0s 163us/step - loss: 0.2726 - accuracy: 0.8904 - val_loss: 0.2414 - val_accuracy: 0.8904\n",
      "Epoch 50/100\n",
      "1022/1022 [==============================] - 0s 174us/step - loss: 0.2713 - accuracy: 0.8894 - val_loss: 0.2414 - val_accuracy: 0.9041\n",
      "Epoch 51/100\n",
      "1022/1022 [==============================] - 0s 147us/step - loss: 0.2729 - accuracy: 0.8894 - val_loss: 0.2412 - val_accuracy: 0.8904\n",
      "Epoch 52/100\n",
      "1022/1022 [==============================] - 0s 142us/step - loss: 0.2715 - accuracy: 0.8914 - val_loss: 0.2403 - val_accuracy: 0.8950\n",
      "Epoch 53/100\n",
      "1022/1022 [==============================] - 0s 138us/step - loss: 0.2718 - accuracy: 0.8875 - val_loss: 0.2404 - val_accuracy: 0.8950\n",
      "Epoch 54/100\n",
      "1022/1022 [==============================] - 0s 136us/step - loss: 0.2702 - accuracy: 0.8875 - val_loss: 0.2400 - val_accuracy: 0.8995\n",
      "Epoch 55/100\n",
      "1022/1022 [==============================] - 0s 134us/step - loss: 0.2721 - accuracy: 0.8875 - val_loss: 0.2399 - val_accuracy: 0.8950\n",
      "Epoch 56/100\n",
      "1022/1022 [==============================] - 0s 134us/step - loss: 0.2698 - accuracy: 0.8914 - val_loss: 0.2419 - val_accuracy: 0.8858\n",
      "Epoch 57/100\n",
      "1022/1022 [==============================] - 0s 134us/step - loss: 0.2702 - accuracy: 0.8865 - val_loss: 0.2397 - val_accuracy: 0.8950\n",
      "Epoch 58/100\n",
      "1022/1022 [==============================] - 0s 135us/step - loss: 0.2705 - accuracy: 0.8885 - val_loss: 0.2401 - val_accuracy: 0.8904\n",
      "Epoch 59/100\n",
      "1022/1022 [==============================] - 0s 134us/step - loss: 0.2697 - accuracy: 0.8894 - val_loss: 0.2413 - val_accuracy: 0.8858\n",
      "Epoch 60/100\n",
      "1022/1022 [==============================] - 0s 148us/step - loss: 0.2700 - accuracy: 0.8894 - val_loss: 0.2399 - val_accuracy: 0.8904\n",
      "Epoch 61/100\n",
      "1022/1022 [==============================] - 0s 146us/step - loss: 0.2690 - accuracy: 0.8894 - val_loss: 0.2405 - val_accuracy: 0.8858\n",
      "Epoch 62/100\n",
      "1022/1022 [==============================] - 0s 137us/step - loss: 0.2690 - accuracy: 0.8904 - val_loss: 0.2389 - val_accuracy: 0.8995\n",
      "Epoch 63/100\n",
      "1022/1022 [==============================] - 0s 161us/step - loss: 0.2690 - accuracy: 0.8865 - val_loss: 0.2388 - val_accuracy: 0.8995\n",
      "Epoch 64/100\n",
      "1022/1022 [==============================] - 0s 138us/step - loss: 0.2684 - accuracy: 0.8933 - val_loss: 0.2401 - val_accuracy: 0.8858\n",
      "Epoch 65/100\n",
      "1022/1022 [==============================] - 0s 137us/step - loss: 0.2684 - accuracy: 0.8894 - val_loss: 0.2385 - val_accuracy: 0.8950\n",
      "Epoch 66/100\n",
      "1022/1022 [==============================] - 0s 140us/step - loss: 0.2685 - accuracy: 0.8875 - val_loss: 0.2386 - val_accuracy: 0.8950\n",
      "Epoch 67/100\n",
      "1022/1022 [==============================] - 0s 142us/step - loss: 0.2677 - accuracy: 0.8904 - val_loss: 0.2390 - val_accuracy: 0.9041\n",
      "Epoch 68/100\n",
      "1022/1022 [==============================] - 0s 147us/step - loss: 0.2673 - accuracy: 0.8914 - val_loss: 0.2384 - val_accuracy: 0.8950\n",
      "Epoch 69/100\n",
      "1022/1022 [==============================] - 0s 141us/step - loss: 0.2675 - accuracy: 0.8924 - val_loss: 0.2383 - val_accuracy: 0.8950\n",
      "Epoch 70/100\n",
      "1022/1022 [==============================] - 0s 138us/step - loss: 0.2664 - accuracy: 0.8963 - val_loss: 0.2394 - val_accuracy: 0.8858\n",
      "Epoch 71/100\n",
      "1022/1022 [==============================] - 0s 138us/step - loss: 0.2667 - accuracy: 0.8924 - val_loss: 0.2384 - val_accuracy: 0.8950\n",
      "Epoch 72/100\n",
      "1022/1022 [==============================] - 0s 139us/step - loss: 0.2671 - accuracy: 0.8904 - val_loss: 0.2381 - val_accuracy: 0.8950\n",
      "Epoch 73/100\n",
      "1022/1022 [==============================] - 0s 136us/step - loss: 0.2666 - accuracy: 0.8933 - val_loss: 0.2390 - val_accuracy: 0.8858\n",
      "Epoch 74/100\n",
      "1022/1022 [==============================] - 0s 159us/step - loss: 0.2659 - accuracy: 0.8953 - val_loss: 0.2378 - val_accuracy: 0.8995\n",
      "Epoch 75/100\n",
      "1022/1022 [==============================] - 0s 143us/step - loss: 0.2659 - accuracy: 0.8914 - val_loss: 0.2383 - val_accuracy: 0.8858\n",
      "Epoch 76/100\n",
      "1022/1022 [==============================] - 0s 138us/step - loss: 0.2663 - accuracy: 0.8933 - val_loss: 0.2379 - val_accuracy: 0.8995\n",
      "Epoch 77/100\n",
      "1022/1022 [==============================] - 0s 139us/step - loss: 0.2657 - accuracy: 0.8894 - val_loss: 0.2414 - val_accuracy: 0.8904\n",
      "Epoch 78/100\n",
      "1022/1022 [==============================] - 0s 146us/step - loss: 0.2661 - accuracy: 0.8943 - val_loss: 0.2391 - val_accuracy: 0.8904\n",
      "Epoch 79/100\n",
      "1022/1022 [==============================] - 0s 146us/step - loss: 0.2642 - accuracy: 0.8973 - val_loss: 0.2375 - val_accuracy: 0.9041\n",
      "Epoch 80/100\n",
      "1022/1022 [==============================] - 0s 141us/step - loss: 0.2658 - accuracy: 0.8914 - val_loss: 0.2376 - val_accuracy: 0.8950\n",
      "Epoch 81/100\n",
      "1022/1022 [==============================] - 0s 135us/step - loss: 0.2652 - accuracy: 0.8973 - val_loss: 0.2373 - val_accuracy: 0.8995\n",
      "Epoch 82/100\n",
      "1022/1022 [==============================] - 0s 136us/step - loss: 0.2653 - accuracy: 0.8933 - val_loss: 0.2373 - val_accuracy: 0.8995\n",
      "Epoch 83/100\n",
      "1022/1022 [==============================] - 0s 144us/step - loss: 0.2642 - accuracy: 0.8924 - val_loss: 0.2421 - val_accuracy: 0.8950\n",
      "Epoch 84/100\n",
      "1022/1022 [==============================] - 0s 143us/step - loss: 0.2654 - accuracy: 0.8924 - val_loss: 0.2368 - val_accuracy: 0.8995\n",
      "Epoch 85/100\n",
      "1022/1022 [==============================] - 0s 146us/step - loss: 0.2648 - accuracy: 0.8924 - val_loss: 0.2369 - val_accuracy: 0.8995\n",
      "Epoch 86/100\n",
      "1022/1022 [==============================] - 0s 138us/step - loss: 0.2641 - accuracy: 0.8914 - val_loss: 0.2369 - val_accuracy: 0.9041\n",
      "Epoch 87/100\n",
      "1022/1022 [==============================] - 0s 147us/step - loss: 0.2643 - accuracy: 0.8973 - val_loss: 0.2392 - val_accuracy: 0.8904\n",
      "Epoch 88/100\n",
      "1022/1022 [==============================] - 0s 146us/step - loss: 0.2645 - accuracy: 0.8943 - val_loss: 0.2375 - val_accuracy: 0.8904\n",
      "Epoch 89/100\n",
      "1022/1022 [==============================] - 0s 139us/step - loss: 0.2635 - accuracy: 0.8933 - val_loss: 0.2368 - val_accuracy: 0.8950\n",
      "Epoch 90/100\n",
      "1022/1022 [==============================] - 0s 135us/step - loss: 0.2640 - accuracy: 0.8963 - val_loss: 0.2373 - val_accuracy: 0.8904\n",
      "Epoch 91/100\n",
      "1022/1022 [==============================] - 0s 149us/step - loss: 0.2637 - accuracy: 0.8943 - val_loss: 0.2380 - val_accuracy: 0.8904\n",
      "Epoch 92/100\n",
      "1022/1022 [==============================] - 0s 144us/step - loss: 0.2632 - accuracy: 0.8953 - val_loss: 0.2363 - val_accuracy: 0.8995\n",
      "Epoch 93/100\n",
      "1022/1022 [==============================] - 0s 146us/step - loss: 0.2618 - accuracy: 0.8963 - val_loss: 0.2409 - val_accuracy: 0.8904\n",
      "Epoch 94/100\n",
      "1022/1022 [==============================] - 0s 144us/step - loss: 0.2630 - accuracy: 0.8914 - val_loss: 0.2374 - val_accuracy: 0.8950\n",
      "Epoch 95/100\n",
      "1022/1022 [==============================] - 0s 155us/step - loss: 0.2631 - accuracy: 0.8943 - val_loss: 0.2382 - val_accuracy: 0.8904\n",
      "Epoch 96/100\n",
      "1022/1022 [==============================] - 0s 160us/step - loss: 0.2626 - accuracy: 0.8933 - val_loss: 0.2375 - val_accuracy: 0.8950\n",
      "Epoch 97/100\n",
      "1022/1022 [==============================] - 0s 148us/step - loss: 0.2624 - accuracy: 0.8963 - val_loss: 0.2362 - val_accuracy: 0.8950\n",
      "Epoch 98/100\n",
      "1022/1022 [==============================] - 0s 152us/step - loss: 0.2623 - accuracy: 0.8953 - val_loss: 0.2373 - val_accuracy: 0.8950\n",
      "Epoch 99/100\n",
      "1022/1022 [==============================] - 0s 151us/step - loss: 0.2621 - accuracy: 0.8933 - val_loss: 0.2403 - val_accuracy: 0.8904\n",
      "Epoch 100/100\n",
      "1022/1022 [==============================] - 0s 143us/step - loss: 0.2621 - accuracy: 0.8924 - val_loss: 0.2363 - val_accuracy: 0.8950\n"
     ]
    }
   ],
   "source": [
    "hist = model.fit(X_train,Y_train,batch_size = 32,epochs = 100,validation_data = (X_Val,Y_Val))"
   ]
  },
  {
   "cell_type": "code",
   "execution_count": 73,
   "metadata": {},
   "outputs": [
    {
     "name": "stdout",
     "output_type": "stream",
     "text": [
      "219/219 [==============================] - 0s 102us/step\n"
     ]
    },
    {
     "data": {
      "text/plain": [
       "[0.2443460366905552, 0.9041095972061157]"
      ]
     },
     "execution_count": 73,
     "metadata": {},
     "output_type": "execute_result"
    }
   ],
   "source": [
    "model.evaluate(X_text,Y_test)"
   ]
  },
  {
   "cell_type": "code",
   "execution_count": 74,
   "metadata": {},
   "outputs": [],
   "source": [
    "import matplotlib.pyplot as plt"
   ]
  },
  {
   "cell_type": "code",
   "execution_count": 66,
   "metadata": {},
   "outputs": [
    {
     "data": {
      "text/plain": [
       "'Package for visualization of Training loss and validation loss'"
      ]
     },
     "execution_count": 66,
     "metadata": {},
     "output_type": "execute_result"
    }
   ],
   "source": [
    "'Package for visualization of Training loss and validation loss'"
   ]
  },
  {
   "cell_type": "code",
   "execution_count": 69,
   "metadata": {},
   "outputs": [
    {
     "data": {
      "image/png": "[encoded data removed]",
      "text/plain": [
       "<Figure size 432x288 with 1 Axes>"
      ]
     },
     "metadata": {
      "needs_background": "light"
     },
     "output_type": "display_data"
    }
   ],
   "source": [
    "plt.plot(hist.history['loss'])\n",
    "plt.plot(hist.history['val_loss'])\n",
    "plt.title('Model loss')\n",
    "plt.ylabel('Loss')\n",
    "plt.xlabel('Epoch')\n",
    "plt.legend(['Train','Val'],loc='upper right')\n",
    "plt.show()"
   ]
  },
  {
   "cell_type": "code",
   "execution_count": 60,
   "metadata": {},
   "outputs": [
    {
     "data": {
      "text/plain": [
       "'visualizing the training and validation accuracy'"
      ]
     },
     "execution_count": 60,
     "metadata": {},
     "output_type": "execute_result"
    }
   ],
   "source": [
    "'visualizing the training and validation accuracy'"
   ]
  },
  {
   "cell_type": "code",
   "execution_count": 78,
   "metadata": {},
   "outputs": [
    {
     "data": {
      "image/png": "[encoded data removed]",
      "text/plain": [
       "<Figure size 432x288 with 1 Axes>"
      ]
     },
     "metadata": {
      "needs_background": "light"
     },
     "output_type": "display_data"
    }
   ],
   "source": [
    "plt.plot(hist.history['accuracy'])\n",
    "plt.plot(hist.history['val_accuracy'])\n",
    "plt.title('Model accuracy')\n",
    "plt.ylabel('Loss')\n",
    "plt.xlabel('Epoch')\n",
    "plt.legend(['Train','Val'],loc='upper right')\n",
    "plt.show()"
   ]
  },
  {
   "cell_type": "code",
   "execution_count": 77,
   "metadata": {},
   "outputs": [
    {
     "data": {
      "text/plain": [
       "dict_keys(['val_loss', 'val_accuracy', 'loss', 'accuracy'])"
      ]
     },
     "execution_count": 77,
     "metadata": {},
     "output_type": "execute_result"
    }
   ],
   "source": [
    "history_dict = hist.history\n",
    "history_dict.keys()"
   ]
  },
  {
   "cell_type": "code",
   "execution_count": 88,
   "metadata": {},
   "outputs": [
    {
     "data": {
      "text/plain": [
       "'Adding Regularization to overfitting model'"
      ]
     },
     "execution_count": 88,
     "metadata": {},
     "output_type": "execute_result"
    }
   ],
   "source": [
    "'Adding Regularization to overfitting model'"
   ]
  },
  {
   "cell_type": "code",
   "execution_count": 80,
   "metadata": {},
   "outputs": [
    {
     "name": "stdout",
     "output_type": "stream",
     "text": [
      "Model: \"sequential_3\"\n",
      "_________________________________________________________________\n",
      "Layer (type)                 Output Shape              Param #   \n",
      "=================================================================\n",
      "dense_7 (Dense)              (None, 32)                352       \n",
      "_________________________________________________________________\n",
      "dense_8 (Dense)              (None, 32)                1056      \n",
      "_________________________________________________________________\n",
      "dense_9 (Dense)              (None, 1)                 33        \n",
      "=================================================================\n",
      "Total params: 1,441\n",
      "Trainable params: 1,441\n",
      "Non-trainable params: 0\n",
      "_________________________________________________________________\n"
     ]
    }
   ],
   "source": [
    "model.summary()"
   ]
  },
  {
   "cell_type": "code",
   "execution_count": 91,
   "metadata": {},
   "outputs": [
    {
     "name": "stdout",
     "output_type": "stream",
     "text": [
      "Train on 1022 samples, validate on 219 samples\n",
      "Epoch 1/100\n",
      "1022/1022 [==============================] - 5s 5ms/step - loss: 0.4928 - accuracy: 0.7534 - val_loss: 0.3248 - val_accuracy: 0.8493\n",
      "Epoch 2/100\n",
      "1022/1022 [==============================] - 4s 4ms/step - loss: 0.3520 - accuracy: 0.8620 - val_loss: 0.2854 - val_accuracy: 0.8539\n",
      "Epoch 3/100\n",
      "1022/1022 [==============================] - 4s 4ms/step - loss: 0.2981 - accuracy: 0.8757 - val_loss: 0.2677 - val_accuracy: 0.8767\n",
      "Epoch 4/100\n",
      "1022/1022 [==============================] - 4s 3ms/step - loss: 0.2862 - accuracy: 0.8748 - val_loss: 0.3347 - val_accuracy: 0.8721\n",
      "Epoch 5/100\n",
      "1022/1022 [==============================] - 4s 4ms/step - loss: 0.2925 - accuracy: 0.8689 - val_loss: 0.2317 - val_accuracy: 0.8995\n",
      "Epoch 6/100\n",
      "1022/1022 [==============================] - 4s 4ms/step - loss: 0.2764 - accuracy: 0.8904 - val_loss: 0.2313 - val_accuracy: 0.9132\n",
      "Epoch 7/100\n",
      "1022/1022 [==============================] - 4s 4ms/step - loss: 0.2680 - accuracy: 0.8865 - val_loss: 0.2502 - val_accuracy: 0.9132\n",
      "Epoch 8/100\n",
      "1022/1022 [==============================] - 4s 4ms/step - loss: 0.2590 - accuracy: 0.9002 - val_loss: 0.2421 - val_accuracy: 0.8904\n",
      "Epoch 9/100\n",
      "1022/1022 [==============================] - 4s 4ms/step - loss: 0.2287 - accuracy: 0.9119 - val_loss: 0.2544 - val_accuracy: 0.8904\n",
      "Epoch 10/100\n",
      "1022/1022 [==============================] - 4s 4ms/step - loss: 0.2584 - accuracy: 0.8943 - val_loss: 0.2182 - val_accuracy: 0.9087\n",
      "Epoch 11/100\n",
      "1022/1022 [==============================] - 4s 4ms/step - loss: 0.2371 - accuracy: 0.9090 - val_loss: 0.2483 - val_accuracy: 0.9224\n",
      "Epoch 12/100\n",
      "1022/1022 [==============================] - 4s 4ms/step - loss: 0.2370 - accuracy: 0.8963 - val_loss: 0.2619 - val_accuracy: 0.8721\n",
      "Epoch 13/100\n",
      "1022/1022 [==============================] - 4s 4ms/step - loss: 0.2233 - accuracy: 0.8992 - val_loss: 0.2310 - val_accuracy: 0.8950\n",
      "Epoch 14/100\n",
      "1022/1022 [==============================] - 4s 4ms/step - loss: 0.2364 - accuracy: 0.8973 - val_loss: 0.2844 - val_accuracy: 0.8539\n",
      "Epoch 15/100\n",
      "1022/1022 [==============================] - 4s 4ms/step - loss: 0.2358 - accuracy: 0.9051 - val_loss: 0.1991 - val_accuracy: 0.9224\n",
      "Epoch 16/100\n",
      "1022/1022 [==============================] - 4s 4ms/step - loss: 0.2309 - accuracy: 0.9090 - val_loss: 0.2570 - val_accuracy: 0.8721\n",
      "Epoch 17/100\n",
      "1022/1022 [==============================] - 3s 3ms/step - loss: 0.2257 - accuracy: 0.9012 - val_loss: 0.2072 - val_accuracy: 0.9087\n",
      "Epoch 18/100\n",
      "1022/1022 [==============================] - 3s 3ms/step - loss: 0.2489 - accuracy: 0.8982 - val_loss: 0.2457 - val_accuracy: 0.8995\n",
      "Epoch 19/100\n",
      "1022/1022 [==============================] - 3s 3ms/step - loss: 0.2574 - accuracy: 0.8855 - val_loss: 0.2036 - val_accuracy: 0.9269\n",
      "Epoch 20/100\n",
      "1022/1022 [==============================] - 3s 3ms/step - loss: 0.2209 - accuracy: 0.9129 - val_loss: 0.1858 - val_accuracy: 0.9269\n",
      "Epoch 21/100\n",
      "1022/1022 [==============================] - 4s 4ms/step - loss: 0.2135 - accuracy: 0.9159 - val_loss: 0.2130 - val_accuracy: 0.8950\n",
      "Epoch 22/100\n",
      "1022/1022 [==============================] - 5s 5ms/step - loss: 0.2083 - accuracy: 0.9139 - val_loss: 0.1980 - val_accuracy: 0.9224\n",
      "Epoch 23/100\n",
      "1022/1022 [==============================] - 3s 3ms/step - loss: 0.2002 - accuracy: 0.9217 - val_loss: 0.2274 - val_accuracy: 0.9041\n",
      "Epoch 24/100\n",
      "1022/1022 [==============================] - 4s 4ms/step - loss: 0.1950 - accuracy: 0.9247 - val_loss: 0.2332 - val_accuracy: 0.9087\n",
      "Epoch 25/100\n",
      "1022/1022 [==============================] - 3s 3ms/step - loss: 0.2194 - accuracy: 0.9110 - val_loss: 0.1991 - val_accuracy: 0.9178\n",
      "Epoch 26/100\n",
      "1022/1022 [==============================] - 3s 3ms/step - loss: 0.2053 - accuracy: 0.9217 - val_loss: 0.2125 - val_accuracy: 0.9178\n",
      "Epoch 27/100\n",
      "1022/1022 [==============================] - 4s 4ms/step - loss: 0.1854 - accuracy: 0.9227 - val_loss: 0.2177 - val_accuracy: 0.9132\n",
      "Epoch 28/100\n",
      "1022/1022 [==============================] - 4s 4ms/step - loss: 0.2165 - accuracy: 0.9031 - val_loss: 0.2398 - val_accuracy: 0.8995\n",
      "Epoch 29/100\n",
      "1022/1022 [==============================] - 3s 3ms/step - loss: 0.1840 - accuracy: 0.9344 - val_loss: 0.3381 - val_accuracy: 0.8676\n",
      "Epoch 30/100\n",
      "1022/1022 [==============================] - 4s 4ms/step - loss: 0.2236 - accuracy: 0.9022 - val_loss: 0.2335 - val_accuracy: 0.9132\n",
      "Epoch 31/100\n",
      "1022/1022 [==============================] - 4s 4ms/step - loss: 0.1959 - accuracy: 0.9217 - val_loss: 0.2198 - val_accuracy: 0.9132\n",
      "Epoch 32/100\n",
      "1022/1022 [==============================] - 3s 3ms/step - loss: 0.2069 - accuracy: 0.9149 - val_loss: 0.2359 - val_accuracy: 0.8904\n",
      "Epoch 33/100\n",
      "1022/1022 [==============================] - 4s 3ms/step - loss: 0.1928 - accuracy: 0.9207 - val_loss: 0.3132 - val_accuracy: 0.8584\n",
      "Epoch 34/100\n",
      "1022/1022 [==============================] - 3s 3ms/step - loss: 0.1998 - accuracy: 0.9198 - val_loss: 0.2005 - val_accuracy: 0.8995\n",
      "Epoch 35/100\n",
      "1022/1022 [==============================] - 4s 4ms/step - loss: 0.2186 - accuracy: 0.9139 - val_loss: 0.2513 - val_accuracy: 0.8904\n",
      "Epoch 36/100\n",
      "1022/1022 [==============================] - 4s 4ms/step - loss: 0.2044 - accuracy: 0.9149 - val_loss: 0.2330 - val_accuracy: 0.9224\n",
      "Epoch 37/100\n",
      "1022/1022 [==============================] - 4s 4ms/step - loss: 0.2267 - accuracy: 0.9041 - val_loss: 0.2781 - val_accuracy: 0.9041\n",
      "Epoch 38/100\n",
      "1022/1022 [==============================] - 3s 3ms/step - loss: 0.1979 - accuracy: 0.9227 - val_loss: 0.2276 - val_accuracy: 0.8995\n",
      "Epoch 39/100\n",
      "1022/1022 [==============================] - 3s 3ms/step - loss: 0.1931 - accuracy: 0.9188 - val_loss: 0.2222 - val_accuracy: 0.8995\n",
      "Epoch 40/100\n",
      "1022/1022 [==============================] - 5s 5ms/step - loss: 0.1828 - accuracy: 0.9237 - val_loss: 0.2350 - val_accuracy: 0.8950\n",
      "Epoch 41/100\n",
      "1022/1022 [==============================] - 4s 4ms/step - loss: 0.1945 - accuracy: 0.9159 - val_loss: 0.2613 - val_accuracy: 0.8767\n",
      "Epoch 42/100\n",
      "1022/1022 [==============================] - 5s 5ms/step - loss: 0.1789 - accuracy: 0.9325 - val_loss: 0.2274 - val_accuracy: 0.9041\n",
      "Epoch 43/100\n",
      "1022/1022 [==============================] - 4s 4ms/step - loss: 0.1901 - accuracy: 0.9149 - val_loss: 0.2387 - val_accuracy: 0.9087\n",
      "Epoch 44/100\n",
      "1022/1022 [==============================] - 4s 4ms/step - loss: 0.1842 - accuracy: 0.9276 - val_loss: 0.1980 - val_accuracy: 0.9178\n",
      "Epoch 45/100\n",
      "1022/1022 [==============================] - 4s 4ms/step - loss: 0.1927 - accuracy: 0.9149 - val_loss: 0.2255 - val_accuracy: 0.9178\n",
      "Epoch 46/100\n",
      "1022/1022 [==============================] - 4s 4ms/step - loss: 0.2076 - accuracy: 0.9012 - val_loss: 0.2313 - val_accuracy: 0.9041\n",
      "Epoch 47/100\n",
      "1022/1022 [==============================] - 4s 4ms/step - loss: 0.2168 - accuracy: 0.9070 - val_loss: 0.2059 - val_accuracy: 0.9132\n",
      "Epoch 48/100\n",
      "1022/1022 [==============================] - 4s 4ms/step - loss: 0.1881 - accuracy: 0.9217 - val_loss: 0.2142 - val_accuracy: 0.9041\n",
      "Epoch 49/100\n",
      "1022/1022 [==============================] - 4s 4ms/step - loss: 0.1637 - accuracy: 0.9276 - val_loss: 0.2332 - val_accuracy: 0.8950\n",
      "Epoch 50/100\n",
      "1022/1022 [==============================] - 4s 4ms/step - loss: 0.1730 - accuracy: 0.9276 - val_loss: 0.2460 - val_accuracy: 0.8813\n",
      "Epoch 51/100\n",
      "1022/1022 [==============================] - 4s 4ms/step - loss: 0.1648 - accuracy: 0.9286 - val_loss: 0.2317 - val_accuracy: 0.8950\n",
      "Epoch 52/100\n",
      "1022/1022 [==============================] - 4s 4ms/step - loss: 0.1615 - accuracy: 0.9413 - val_loss: 0.2511 - val_accuracy: 0.9132\n",
      "Epoch 53/100\n",
      "1022/1022 [==============================] - 4s 4ms/step - loss: 0.1663 - accuracy: 0.9344 - val_loss: 0.2600 - val_accuracy: 0.8813\n",
      "Epoch 54/100\n",
      "1022/1022 [==============================] - 5s 5ms/step - loss: 0.1542 - accuracy: 0.9286 - val_loss: 0.2673 - val_accuracy: 0.8950\n",
      "Epoch 55/100\n",
      "1022/1022 [==============================] - 3s 3ms/step - loss: 0.1560 - accuracy: 0.9374 - val_loss: 0.2562 - val_accuracy: 0.8995\n",
      "Epoch 56/100\n",
      "1022/1022 [==============================] - 4s 4ms/step - loss: 0.1698 - accuracy: 0.9286 - val_loss: 0.2241 - val_accuracy: 0.9178\n",
      "Epoch 57/100\n",
      "1022/1022 [==============================] - 4s 4ms/step - loss: 0.1868 - accuracy: 0.9286 - val_loss: 0.2667 - val_accuracy: 0.8813\n",
      "Epoch 58/100\n",
      "1022/1022 [==============================] - 4s 4ms/step - loss: 0.1708 - accuracy: 0.9325 - val_loss: 0.2349 - val_accuracy: 0.8904\n",
      "Epoch 59/100\n",
      "1022/1022 [==============================] - 4s 4ms/step - loss: 0.1404 - accuracy: 0.9423 - val_loss: 0.2818 - val_accuracy: 0.8767\n",
      "Epoch 60/100\n",
      "1022/1022 [==============================] - 3s 3ms/step - loss: 0.1542 - accuracy: 0.9335 - val_loss: 0.3822 - val_accuracy: 0.8904\n",
      "Epoch 61/100\n",
      "1022/1022 [==============================] - 4s 4ms/step - loss: 0.2372 - accuracy: 0.9070 - val_loss: 0.2164 - val_accuracy: 0.9041\n",
      "Epoch 62/100\n",
      "1022/1022 [==============================] - 4s 3ms/step - loss: 0.1716 - accuracy: 0.9247 - val_loss: 0.2509 - val_accuracy: 0.8858\n",
      "Epoch 63/100\n",
      "1022/1022 [==============================] - 4s 4ms/step - loss: 0.1513 - accuracy: 0.9354 - val_loss: 0.2681 - val_accuracy: 0.8904\n",
      "Epoch 64/100\n",
      "1022/1022 [==============================] - 3s 3ms/step - loss: 0.1450 - accuracy: 0.9442 - val_loss: 0.3259 - val_accuracy: 0.8858\n",
      "Epoch 65/100\n",
      "1022/1022 [==============================] - 4s 4ms/step - loss: 0.1526 - accuracy: 0.9344 - val_loss: 0.2794 - val_accuracy: 0.9087\n",
      "Epoch 66/100\n",
      "1022/1022 [==============================] - 4s 4ms/step - loss: 0.1472 - accuracy: 0.9393 - val_loss: 0.3083 - val_accuracy: 0.8950\n",
      "Epoch 67/100\n",
      "1022/1022 [==============================] - 4s 4ms/step - loss: 0.1466 - accuracy: 0.9403 - val_loss: 0.2948 - val_accuracy: 0.8950\n",
      "Epoch 68/100\n",
      "1022/1022 [==============================] - 3s 3ms/step - loss: 0.1735 - accuracy: 0.9198 - val_loss: 0.2272 - val_accuracy: 0.8813\n",
      "Epoch 69/100\n",
      "1022/1022 [==============================] - 3s 3ms/step - loss: 0.1471 - accuracy: 0.9423 - val_loss: 0.4056 - val_accuracy: 0.8813\n",
      "Epoch 70/100\n",
      "1022/1022 [==============================] - 4s 4ms/step - loss: 0.1666 - accuracy: 0.9374 - val_loss: 0.2134 - val_accuracy: 0.9178\n",
      "Epoch 71/100\n",
      "1022/1022 [==============================] - 3s 3ms/step - loss: 0.1455 - accuracy: 0.9374 - val_loss: 0.2671 - val_accuracy: 0.8950\n",
      "Epoch 72/100\n",
      "1022/1022 [==============================] - 3s 3ms/step - loss: 0.1419 - accuracy: 0.9442 - val_loss: 0.2948 - val_accuracy: 0.8904\n",
      "Epoch 73/100\n",
      "1022/1022 [==============================] - 4s 4ms/step - loss: 0.1347 - accuracy: 0.9491 - val_loss: 0.2593 - val_accuracy: 0.9087\n",
      "Epoch 74/100\n",
      "1022/1022 [==============================] - 4s 4ms/step - loss: 0.1392 - accuracy: 0.9442 - val_loss: 0.2892 - val_accuracy: 0.9132\n",
      "Epoch 75/100\n",
      "1022/1022 [==============================] - 4s 4ms/step - loss: 0.1399 - accuracy: 0.9403 - val_loss: 0.2721 - val_accuracy: 0.8995\n",
      "Epoch 76/100\n",
      "1022/1022 [==============================] - 5s 5ms/step - loss: 0.1274 - accuracy: 0.9442 - val_loss: 0.3320 - val_accuracy: 0.8858\n",
      "Epoch 77/100\n",
      "1022/1022 [==============================] - 6s 5ms/step - loss: 0.1457 - accuracy: 0.9384 - val_loss: 0.2954 - val_accuracy: 0.8858\n",
      "Epoch 78/100\n",
      "1022/1022 [==============================] - 5s 5ms/step - loss: 0.1270 - accuracy: 0.9442 - val_loss: 0.3278 - val_accuracy: 0.8950\n",
      "Epoch 79/100\n",
      "1022/1022 [==============================] - 3s 3ms/step - loss: 0.1583 - accuracy: 0.9256 - val_loss: 0.2132 - val_accuracy: 0.8995\n",
      "Epoch 80/100\n",
      "1022/1022 [==============================] - 3s 3ms/step - loss: 0.1593 - accuracy: 0.9315 - val_loss: 0.2547 - val_accuracy: 0.8950\n",
      "Epoch 81/100\n",
      "1022/1022 [==============================] - 4s 3ms/step - loss: 0.1599 - accuracy: 0.9325 - val_loss: 0.3100 - val_accuracy: 0.8904\n",
      "Epoch 82/100\n",
      "1022/1022 [==============================] - 3s 3ms/step - loss: 0.1566 - accuracy: 0.9393 - val_loss: 0.4888 - val_accuracy: 0.9041\n",
      "Epoch 83/100\n",
      "1022/1022 [==============================] - 3s 3ms/step - loss: 0.2192 - accuracy: 0.9168 - val_loss: 0.2628 - val_accuracy: 0.8858\n",
      "Epoch 84/100\n",
      "1022/1022 [==============================] - 3s 3ms/step - loss: 0.1817 - accuracy: 0.9227 - val_loss: 0.2662 - val_accuracy: 0.8813\n",
      "Epoch 85/100\n",
      "1022/1022 [==============================] - 3s 3ms/step - loss: 0.1378 - accuracy: 0.9472 - val_loss: 0.2957 - val_accuracy: 0.8995\n",
      "Epoch 86/100\n",
      "1022/1022 [==============================] - 5s 5ms/step - loss: 0.1298 - accuracy: 0.9472 - val_loss: 0.2738 - val_accuracy: 0.9041\n",
      "Epoch 87/100\n",
      "1022/1022 [==============================] - 5s 5ms/step - loss: 0.1148 - accuracy: 0.9530 - val_loss: 0.2889 - val_accuracy: 0.8858\n",
      "Epoch 88/100\n",
      "1022/1022 [==============================] - 3s 3ms/step - loss: 0.1109 - accuracy: 0.9530 - val_loss: 0.2848 - val_accuracy: 0.8995\n",
      "Epoch 89/100\n",
      "1022/1022 [==============================] - 3s 3ms/step - loss: 0.1192 - accuracy: 0.9521 - val_loss: 0.3019 - val_accuracy: 0.8904\n",
      "Epoch 90/100\n",
      "1022/1022 [==============================] - 3s 3ms/step - loss: 0.1574 - accuracy: 0.9325 - val_loss: 0.3789 - val_accuracy: 0.8676\n",
      "Epoch 91/100\n",
      "1022/1022 [==============================] - 3s 3ms/step - loss: 0.1374 - accuracy: 0.9432 - val_loss: 0.3006 - val_accuracy: 0.8767\n",
      "Epoch 92/100\n",
      "1022/1022 [==============================] - 3s 3ms/step - loss: 0.1404 - accuracy: 0.9344 - val_loss: 0.3387 - val_accuracy: 0.8858\n",
      "Epoch 93/100\n",
      "1022/1022 [==============================] - 3s 3ms/step - loss: 0.1404 - accuracy: 0.9403 - val_loss: 0.2613 - val_accuracy: 0.9041\n",
      "Epoch 94/100\n",
      "1022/1022 [==============================] - 3s 3ms/step - loss: 0.1240 - accuracy: 0.9462 - val_loss: 0.2474 - val_accuracy: 0.8950\n",
      "Epoch 95/100\n",
      "1022/1022 [==============================] - 3s 3ms/step - loss: 0.1342 - accuracy: 0.9403 - val_loss: 0.2840 - val_accuracy: 0.8813\n",
      "Epoch 96/100\n",
      "1022/1022 [==============================] - 3s 3ms/step - loss: 0.1363 - accuracy: 0.9442 - val_loss: 0.2822 - val_accuracy: 0.8858\n",
      "Epoch 97/100\n",
      "1022/1022 [==============================] - 4s 4ms/step - loss: 0.1404 - accuracy: 0.9423 - val_loss: 0.3715 - val_accuracy: 0.8676\n",
      "Epoch 98/100\n",
      "1022/1022 [==============================] - 4s 4ms/step - loss: 0.1201 - accuracy: 0.9521 - val_loss: 0.2740 - val_accuracy: 0.9041\n",
      "Epoch 99/100\n",
      "1022/1022 [==============================] - 4s 4ms/step - loss: 0.1139 - accuracy: 0.9462 - val_loss: 0.3356 - val_accuracy: 0.8950\n",
      "Epoch 100/100\n",
      "1022/1022 [==============================] - 4s 4ms/step - loss: 0.1039 - accuracy: 0.9550 - val_loss: 0.3648 - val_accuracy: 0.8995\n"
     ]
    }
   ],
   "source": [
    "model2 = Sequential([\n",
    "    Dense(1000, activation ='relu', input_shape=(10,)),\n",
    "    Dense(1000, activation ='relu'),\n",
    "    Dense(1000, activation ='relu'),\n",
    "    Dense(1000, activation ='relu'),\n",
    "    Dense(1, activation ='sigmoid'),    \n",
    "])\n",
    "\n",
    "model2.compile(optimizer = 'adam',\n",
    "              loss = 'binary_crossentropy',\n",
    "              metrics = ['accuracy'])\n",
    "hist2 = model2.fit(X_train,Y_train,batch_size = 32,epochs = 100,validation_data = (X_Val,Y_Val))"
   ]
  },
  {
   "cell_type": "code",
   "execution_count": 94,
   "metadata": {},
   "outputs": [
    {
     "data": {
      "image/png": "[encoded data removed]",
      "text/plain": [
       "<Figure size 432x288 with 1 Axes>"
      ]
     },
     "metadata": {
      "needs_background": "light"
     },
     "output_type": "display_data"
    }
   ],
   "source": [
    "plt.plot(hist2.history['loss'])\n",
    "plt.plot(hist2.history['val_loss'])\n",
    "plt.title('Model loss')\n",
    "plt.ylabel('Loss')\n",
    "plt.xlabel('Epoch')\n",
    "plt.legend(['Train','Val'],loc = 'upper right')\n",
    "plt.show()"
   ]
  },
  {
   "cell_type": "code",
   "execution_count": 95,
   "metadata": {},
   "outputs": [
    {
     "data": {
      "image/png": "[encoded data removed]",
      "text/plain": [
       "<Figure size 432x288 with 1 Axes>"
      ]
     },
     "metadata": {
      "needs_background": "light"
     },
     "output_type": "display_data"
    }
   ],
   "source": [
    "plt.plot(hist2.history['accuracy'])\n",
    "plt.plot(hist2.history['val_accuracy'])\n",
    "plt.title('Model accuracy')\n",
    "plt.ylabel('accuracy')\n",
    "plt.xlabel('Epoch')\n",
    "plt.legend(['Train','Val'],loc = 'upper right')\n",
    "plt.show()"
   ]
  },
  {
   "cell_type": "code",
   "execution_count": 96,
   "metadata": {},
   "outputs": [
    {
     "data": {
      "text/plain": [
       "'To address overfitting add L2 regularization and dropout in model'"
      ]
     },
     "execution_count": 96,
     "metadata": {},
     "output_type": "execute_result"
    }
   ],
   "source": [
    "'To address overfitting add L2 regularization and dropout in model'"
   ]
  },
  {
   "cell_type": "code",
   "execution_count": 105,
   "metadata": {},
   "outputs": [],
   "source": [
    "from keras.layers import Dropout\n",
    "from keras import regularizers"
   ]
  },
  {
   "cell_type": "code",
   "execution_count": 106,
   "metadata": {},
   "outputs": [],
   "source": [
    "model3 = Sequential([\n",
    "    Dense(1000, activation = 'relu', kernel_regularizer=regularizers.l2(0.01), input_shape=(10,)),\n",
    "    Dropout(0.3),\n",
    "    Dense(1000, activation = 'relu', kernel_regularizer=regularizers.l2(0.01)),\n",
    "    Dropout(0.3),\n",
    "    Dense(1000, activation = 'relu', kernel_regularizer=regularizers.l2(0.01)),\n",
    "    Dropout(0.3),\n",
    "    Dense(1000, activation = 'relu', kernel_regularizer=regularizers.l2(0.01)),\n",
    "    Dropout(0.3),\n",
    "    Dense(1, activation = 'sigmoid', kernel_regularizer=regularizers.l2(0.01)) ])\n",
    "               "
   ]
  },
  {
   "cell_type": "code",
   "execution_count": 107,
   "metadata": {},
   "outputs": [],
   "source": [
    "model3.compile(optimizer = 'adam',loss = 'binary_crossentropy',metrics = ['accuracy'])"
   ]
  },
  {
   "cell_type": "code",
   "execution_count": 108,
   "metadata": {},
   "outputs": [
    {
     "name": "stdout",
     "output_type": "stream",
     "text": [
      "Train on 1022 samples, validate on 219 samples\n",
      "Epoch 1/100\n",
      "1022/1022 [==============================] - 9s 8ms/step - loss: 14.2367 - accuracy: 0.6047 - val_loss: 3.8777 - val_accuracy: 0.8128\n",
      "Epoch 2/100\n",
      "1022/1022 [==============================] - 5s 5ms/step - loss: 1.7048 - accuracy: 0.8033 - val_loss: 0.6875 - val_accuracy: 0.8493\n",
      "Epoch 3/100\n",
      "1022/1022 [==============================] - 5s 5ms/step - loss: 0.6234 - accuracy: 0.8268 - val_loss: 0.5635 - val_accuracy: 0.8447\n",
      "Epoch 4/100\n",
      "1022/1022 [==============================] - 5s 5ms/step - loss: 0.5205 - accuracy: 0.8689 - val_loss: 0.4599 - val_accuracy: 0.8630\n",
      "Epoch 5/100\n",
      "1022/1022 [==============================] - 5s 5ms/step - loss: 0.4917 - accuracy: 0.8738 - val_loss: 0.4471 - val_accuracy: 0.8721\n",
      "Epoch 6/100\n",
      "1022/1022 [==============================] - 5s 5ms/step - loss: 0.4853 - accuracy: 0.8777 - val_loss: 0.4317 - val_accuracy: 0.9041\n",
      "Epoch 7/100\n",
      "1022/1022 [==============================] - 5s 5ms/step - loss: 0.4844 - accuracy: 0.8689 - val_loss: 0.4597 - val_accuracy: 0.8721\n",
      "Epoch 8/100\n",
      "1022/1022 [==============================] - 6s 6ms/step - loss: 0.4951 - accuracy: 0.8669 - val_loss: 0.4291 - val_accuracy: 0.8995\n",
      "Epoch 9/100\n",
      "1022/1022 [==============================] - 5s 5ms/step - loss: 0.4983 - accuracy: 0.8581 - val_loss: 0.4341 - val_accuracy: 0.8767\n",
      "Epoch 10/100\n",
      "1022/1022 [==============================] - 6s 6ms/step - loss: 0.4689 - accuracy: 0.8826 - val_loss: 0.4180 - val_accuracy: 0.8950\n",
      "Epoch 11/100\n",
      "1022/1022 [==============================] - 8s 8ms/step - loss: 0.4694 - accuracy: 0.8767 - val_loss: 0.4572 - val_accuracy: 0.8904\n",
      "Epoch 12/100\n",
      "1022/1022 [==============================] - 6s 6ms/step - loss: 0.4745 - accuracy: 0.8679 - val_loss: 0.4212 - val_accuracy: 0.8904\n",
      "Epoch 13/100\n",
      "1022/1022 [==============================] - 5s 5ms/step - loss: 0.4514 - accuracy: 0.8855 - val_loss: 0.4246 - val_accuracy: 0.8904\n",
      "Epoch 14/100\n",
      "1022/1022 [==============================] - 4s 4ms/step - loss: 0.4574 - accuracy: 0.8767 - val_loss: 0.4290 - val_accuracy: 0.8995\n",
      "Epoch 15/100\n",
      "1022/1022 [==============================] - 4s 4ms/step - loss: 0.4679 - accuracy: 0.8796 - val_loss: 0.4093 - val_accuracy: 0.8813\n",
      "Epoch 16/100\n",
      "1022/1022 [==============================] - 4s 4ms/step - loss: 0.4521 - accuracy: 0.8738 - val_loss: 0.4504 - val_accuracy: 0.8630\n",
      "Epoch 17/100\n",
      "1022/1022 [==============================] - 4s 4ms/step - loss: 0.4584 - accuracy: 0.8855 - val_loss: 0.4130 - val_accuracy: 0.8950\n",
      "Epoch 18/100\n",
      "1022/1022 [==============================] - 5s 4ms/step - loss: 0.4448 - accuracy: 0.8816 - val_loss: 0.4045 - val_accuracy: 0.8950\n",
      "Epoch 19/100\n",
      "1022/1022 [==============================] - 5s 5ms/step - loss: 0.4603 - accuracy: 0.8767 - val_loss: 0.4019 - val_accuracy: 0.8995\n",
      "Epoch 20/100\n",
      "1022/1022 [==============================] - 5s 4ms/step - loss: 0.4607 - accuracy: 0.8836 - val_loss: 0.4039 - val_accuracy: 0.8950\n",
      "Epoch 21/100\n",
      "1022/1022 [==============================] - 4s 4ms/step - loss: 0.4447 - accuracy: 0.8826 - val_loss: 0.4774 - val_accuracy: 0.8539\n",
      "Epoch 22/100\n",
      "1022/1022 [==============================] - 5s 4ms/step - loss: 0.4663 - accuracy: 0.8699 - val_loss: 0.4063 - val_accuracy: 0.8950\n",
      "Epoch 23/100\n",
      "1022/1022 [==============================] - 4s 4ms/step - loss: 0.4843 - accuracy: 0.8523 - val_loss: 0.4584 - val_accuracy: 0.8904\n",
      "Epoch 24/100\n",
      "1022/1022 [==============================] - 4s 4ms/step - loss: 0.4758 - accuracy: 0.8796 - val_loss: 0.4167 - val_accuracy: 0.8950\n",
      "Epoch 25/100\n",
      "1022/1022 [==============================] - 5s 5ms/step - loss: 0.4511 - accuracy: 0.8914 - val_loss: 0.4010 - val_accuracy: 0.8950\n",
      "Epoch 26/100\n",
      "1022/1022 [==============================] - 4s 4ms/step - loss: 0.4472 - accuracy: 0.8826 - val_loss: 0.4071 - val_accuracy: 0.8904\n",
      "Epoch 27/100\n",
      "1022/1022 [==============================] - 5s 5ms/step - loss: 0.4428 - accuracy: 0.8816 - val_loss: 0.4077 - val_accuracy: 0.8950\n",
      "Epoch 28/100\n",
      "1022/1022 [==============================] - 4s 4ms/step - loss: 0.4411 - accuracy: 0.8826 - val_loss: 0.4331 - val_accuracy: 0.8904\n",
      "Epoch 29/100\n",
      "1022/1022 [==============================] - 5s 5ms/step - loss: 0.4558 - accuracy: 0.8836 - val_loss: 0.4009 - val_accuracy: 0.8950\n",
      "Epoch 30/100\n",
      "1022/1022 [==============================] - 5s 5ms/step - loss: 0.4494 - accuracy: 0.8748 - val_loss: 0.4617 - val_accuracy: 0.8767\n",
      "Epoch 31/100\n",
      "1022/1022 [==============================] - 6s 6ms/step - loss: 0.4572 - accuracy: 0.8787 - val_loss: 0.3982 - val_accuracy: 0.8995\n",
      "Epoch 32/100\n",
      "1022/1022 [==============================] - 5s 5ms/step - loss: 0.4587 - accuracy: 0.8708 - val_loss: 0.4052 - val_accuracy: 0.8950\n",
      "Epoch 33/100\n",
      "1022/1022 [==============================] - 5s 5ms/step - loss: 0.4443 - accuracy: 0.8865 - val_loss: 0.3964 - val_accuracy: 0.8995\n",
      "Epoch 34/100\n",
      "1022/1022 [==============================] - 5s 5ms/step - loss: 0.4703 - accuracy: 0.8738 - val_loss: 0.4198 - val_accuracy: 0.8950\n",
      "Epoch 35/100\n",
      "1022/1022 [==============================] - 4s 4ms/step - loss: 0.4368 - accuracy: 0.8904 - val_loss: 0.3978 - val_accuracy: 0.8904\n",
      "Epoch 36/100\n",
      "1022/1022 [==============================] - 5s 5ms/step - loss: 0.4389 - accuracy: 0.8845 - val_loss: 0.4150 - val_accuracy: 0.8767\n",
      "Epoch 37/100\n",
      "1022/1022 [==============================] - 4s 4ms/step - loss: 0.4388 - accuracy: 0.8826 - val_loss: 0.3975 - val_accuracy: 0.9041\n",
      "Epoch 38/100\n",
      "1022/1022 [==============================] - 5s 5ms/step - loss: 0.4575 - accuracy: 0.8669 - val_loss: 0.5154 - val_accuracy: 0.8356\n",
      "Epoch 39/100\n",
      "1022/1022 [==============================] - 5s 5ms/step - loss: 0.4685 - accuracy: 0.8806 - val_loss: 0.4359 - val_accuracy: 0.8676\n",
      "Epoch 40/100\n",
      "1022/1022 [==============================] - 5s 5ms/step - loss: 0.4469 - accuracy: 0.8748 - val_loss: 0.4123 - val_accuracy: 0.8995\n",
      "Epoch 41/100\n",
      "1022/1022 [==============================] - 5s 5ms/step - loss: 0.4430 - accuracy: 0.8875 - val_loss: 0.4023 - val_accuracy: 0.8904\n",
      "Epoch 42/100\n",
      "1022/1022 [==============================] - 4s 4ms/step - loss: 0.4693 - accuracy: 0.8523 - val_loss: 0.4185 - val_accuracy: 0.8995\n",
      "Epoch 43/100\n",
      "1022/1022 [==============================] - 5s 4ms/step - loss: 0.4451 - accuracy: 0.8777 - val_loss: 0.4203 - val_accuracy: 0.8767\n",
      "Epoch 44/100\n",
      "1022/1022 [==============================] - 5s 4ms/step - loss: 0.4471 - accuracy: 0.8865 - val_loss: 0.3925 - val_accuracy: 0.8950\n",
      "Epoch 45/100\n",
      "1022/1022 [==============================] - 4s 4ms/step - loss: 0.4381 - accuracy: 0.8924 - val_loss: 0.4126 - val_accuracy: 0.8904\n",
      "Epoch 46/100\n",
      "1022/1022 [==============================] - 5s 4ms/step - loss: 0.4490 - accuracy: 0.8885 - val_loss: 0.3967 - val_accuracy: 0.9041\n",
      "Epoch 47/100\n",
      "1022/1022 [==============================] - 5s 4ms/step - loss: 0.4522 - accuracy: 0.8796 - val_loss: 0.4096 - val_accuracy: 0.8858\n",
      "Epoch 48/100\n",
      "1022/1022 [==============================] - 5s 4ms/step - loss: 0.4538 - accuracy: 0.8738 - val_loss: 0.4017 - val_accuracy: 0.8950\n",
      "Epoch 49/100\n",
      "1022/1022 [==============================] - 4s 4ms/step - loss: 0.4554 - accuracy: 0.8669 - val_loss: 0.4021 - val_accuracy: 0.8995\n",
      "Epoch 50/100\n",
      "1022/1022 [==============================] - 4s 4ms/step - loss: 0.4364 - accuracy: 0.8767 - val_loss: 0.4013 - val_accuracy: 0.8904\n",
      "Epoch 51/100\n",
      "1022/1022 [==============================] - 5s 5ms/step - loss: 0.4461 - accuracy: 0.8806 - val_loss: 0.4009 - val_accuracy: 0.9041\n",
      "Epoch 52/100\n",
      "1022/1022 [==============================] - 5s 4ms/step - loss: 0.4687 - accuracy: 0.8767 - val_loss: 0.4302 - val_accuracy: 0.8676\n",
      "Epoch 53/100\n",
      "1022/1022 [==============================] - 4s 4ms/step - loss: 0.4508 - accuracy: 0.8748 - val_loss: 0.4293 - val_accuracy: 0.8950\n",
      "Epoch 54/100\n",
      "1022/1022 [==============================] - 4s 4ms/step - loss: 0.4544 - accuracy: 0.8787 - val_loss: 0.3969 - val_accuracy: 0.8995\n",
      "Epoch 55/100\n",
      "1022/1022 [==============================] - 5s 4ms/step - loss: 0.4525 - accuracy: 0.8748 - val_loss: 0.4883 - val_accuracy: 0.8493\n",
      "Epoch 56/100\n",
      "1022/1022 [==============================] - 4s 4ms/step - loss: 0.4679 - accuracy: 0.8718 - val_loss: 0.4061 - val_accuracy: 0.8950\n",
      "Epoch 57/100\n",
      "1022/1022 [==============================] - 4s 4ms/step - loss: 0.4459 - accuracy: 0.8885 - val_loss: 0.4195 - val_accuracy: 0.8721\n",
      "Epoch 58/100\n",
      "1022/1022 [==============================] - 5s 4ms/step - loss: 0.4470 - accuracy: 0.8865 - val_loss: 0.4223 - val_accuracy: 0.8950\n",
      "Epoch 59/100\n",
      "1022/1022 [==============================] - 5s 4ms/step - loss: 0.4549 - accuracy: 0.8806 - val_loss: 0.3968 - val_accuracy: 0.9041\n",
      "Epoch 60/100\n",
      "1022/1022 [==============================] - 5s 5ms/step - loss: 0.4443 - accuracy: 0.8796 - val_loss: 0.4109 - val_accuracy: 0.8950\n",
      "Epoch 61/100\n",
      "1022/1022 [==============================] - 5s 4ms/step - loss: 0.4469 - accuracy: 0.8777 - val_loss: 0.3936 - val_accuracy: 0.8950\n",
      "Epoch 62/100\n",
      "1022/1022 [==============================] - 5s 4ms/step - loss: 0.4460 - accuracy: 0.8748 - val_loss: 0.4162 - val_accuracy: 0.8995\n",
      "Epoch 63/100\n",
      "1022/1022 [==============================] - 5s 4ms/step - loss: 0.4372 - accuracy: 0.8816 - val_loss: 0.3979 - val_accuracy: 0.9087\n",
      "Epoch 64/100\n",
      "1022/1022 [==============================] - 4s 4ms/step - loss: 0.4445 - accuracy: 0.8806 - val_loss: 0.3964 - val_accuracy: 0.8995\n",
      "Epoch 65/100\n",
      "1022/1022 [==============================] - 5s 5ms/step - loss: 0.4462 - accuracy: 0.8845 - val_loss: 0.4004 - val_accuracy: 0.8995\n",
      "Epoch 66/100\n",
      "1022/1022 [==============================] - 4s 4ms/step - loss: 0.4363 - accuracy: 0.8963 - val_loss: 0.4133 - val_accuracy: 0.8858\n",
      "Epoch 67/100\n",
      "1022/1022 [==============================] - 4s 4ms/step - loss: 0.4614 - accuracy: 0.8699 - val_loss: 0.3985 - val_accuracy: 0.8950\n",
      "Epoch 68/100\n",
      "1022/1022 [==============================] - 5s 4ms/step - loss: 0.4330 - accuracy: 0.8865 - val_loss: 0.4002 - val_accuracy: 0.9087\n",
      "Epoch 69/100\n",
      "1022/1022 [==============================] - 4s 4ms/step - loss: 0.4541 - accuracy: 0.8777 - val_loss: 0.3990 - val_accuracy: 0.9041\n",
      "Epoch 70/100\n",
      "1022/1022 [==============================] - 5s 5ms/step - loss: 0.4517 - accuracy: 0.8650 - val_loss: 0.4656 - val_accuracy: 0.8584\n",
      "Epoch 71/100\n",
      "1022/1022 [==============================] - 5s 4ms/step - loss: 0.4501 - accuracy: 0.8767 - val_loss: 0.4512 - val_accuracy: 0.8539\n",
      "Epoch 72/100\n",
      "1022/1022 [==============================] - 5s 4ms/step - loss: 0.4611 - accuracy: 0.8728 - val_loss: 0.4048 - val_accuracy: 0.9041\n",
      "Epoch 73/100\n",
      "1022/1022 [==============================] - 5s 4ms/step - loss: 0.4484 - accuracy: 0.8708 - val_loss: 0.3941 - val_accuracy: 0.8995\n",
      "Epoch 74/100\n",
      "1022/1022 [==============================] - 5s 5ms/step - loss: 0.4377 - accuracy: 0.8796 - val_loss: 0.4041 - val_accuracy: 0.8904\n",
      "Epoch 75/100\n",
      "1022/1022 [==============================] - 5s 5ms/step - loss: 0.4553 - accuracy: 0.8787 - val_loss: 0.4025 - val_accuracy: 0.9041\n",
      "Epoch 76/100\n",
      "1022/1022 [==============================] - 5s 5ms/step - loss: 0.4364 - accuracy: 0.8796 - val_loss: 0.4690 - val_accuracy: 0.8630\n",
      "Epoch 77/100\n",
      "1022/1022 [==============================] - 5s 4ms/step - loss: 0.4457 - accuracy: 0.8787 - val_loss: 0.4061 - val_accuracy: 0.8904\n",
      "Epoch 78/100\n",
      "1022/1022 [==============================] - 5s 5ms/step - loss: 0.4386 - accuracy: 0.8885 - val_loss: 0.3972 - val_accuracy: 0.9041\n",
      "Epoch 79/100\n",
      "1022/1022 [==============================] - 5s 5ms/step - loss: 0.4476 - accuracy: 0.8806 - val_loss: 0.4019 - val_accuracy: 0.8995\n",
      "Epoch 80/100\n",
      "1022/1022 [==============================] - 5s 4ms/step - loss: 0.4366 - accuracy: 0.8904 - val_loss: 0.3973 - val_accuracy: 0.8904\n",
      "Epoch 81/100\n",
      "1022/1022 [==============================] - 4s 4ms/step - loss: 0.4488 - accuracy: 0.8738 - val_loss: 0.4029 - val_accuracy: 0.8950\n",
      "Epoch 82/100\n",
      "1022/1022 [==============================] - 5s 5ms/step - loss: 0.4519 - accuracy: 0.8767 - val_loss: 0.3992 - val_accuracy: 0.9041\n",
      "Epoch 83/100\n",
      "1022/1022 [==============================] - 5s 4ms/step - loss: 0.4678 - accuracy: 0.8659 - val_loss: 0.4121 - val_accuracy: 0.8995\n",
      "Epoch 84/100\n",
      "1022/1022 [==============================] - 5s 5ms/step - loss: 0.4578 - accuracy: 0.8787 - val_loss: 0.3957 - val_accuracy: 0.8995\n",
      "Epoch 85/100\n",
      "1022/1022 [==============================] - 5s 5ms/step - loss: 0.4377 - accuracy: 0.8855 - val_loss: 0.3937 - val_accuracy: 0.8904\n",
      "Epoch 86/100\n",
      "1022/1022 [==============================] - 5s 4ms/step - loss: 0.4418 - accuracy: 0.8816 - val_loss: 0.4006 - val_accuracy: 0.9041\n",
      "Epoch 87/100\n",
      "1022/1022 [==============================] - 5s 5ms/step - loss: 0.4386 - accuracy: 0.8875 - val_loss: 0.4094 - val_accuracy: 0.8813\n",
      "Epoch 88/100\n",
      "1022/1022 [==============================] - 5s 5ms/step - loss: 0.4420 - accuracy: 0.8865 - val_loss: 0.4045 - val_accuracy: 0.8904\n",
      "Epoch 89/100\n",
      "1022/1022 [==============================] - 5s 5ms/step - loss: 0.4419 - accuracy: 0.8885 - val_loss: 0.3996 - val_accuracy: 0.9041\n",
      "Epoch 90/100\n",
      "1022/1022 [==============================] - 5s 4ms/step - loss: 0.4538 - accuracy: 0.8699 - val_loss: 0.4122 - val_accuracy: 0.8904\n",
      "Epoch 91/100\n",
      "1022/1022 [==============================] - 5s 5ms/step - loss: 0.4363 - accuracy: 0.8748 - val_loss: 0.4016 - val_accuracy: 0.8995\n",
      "Epoch 92/100\n",
      "1022/1022 [==============================] - 5s 5ms/step - loss: 0.4431 - accuracy: 0.8855 - val_loss: 0.4003 - val_accuracy: 0.9041\n",
      "Epoch 93/100\n",
      "1022/1022 [==============================] - 5s 5ms/step - loss: 0.4382 - accuracy: 0.8894 - val_loss: 0.4086 - val_accuracy: 0.8904\n",
      "Epoch 94/100\n",
      "1022/1022 [==============================] - 5s 5ms/step - loss: 0.4461 - accuracy: 0.8875 - val_loss: 0.4038 - val_accuracy: 0.8995\n",
      "Epoch 95/100\n",
      "1022/1022 [==============================] - 5s 5ms/step - loss: 0.4567 - accuracy: 0.8767 - val_loss: 0.4417 - val_accuracy: 0.8584\n",
      "Epoch 96/100\n",
      "1022/1022 [==============================] - 5s 5ms/step - loss: 0.4439 - accuracy: 0.8748 - val_loss: 0.4016 - val_accuracy: 0.8995\n",
      "Epoch 97/100\n",
      "1022/1022 [==============================] - 5s 5ms/step - loss: 0.4701 - accuracy: 0.8591 - val_loss: 0.4095 - val_accuracy: 0.8995\n",
      "Epoch 98/100\n",
      "1022/1022 [==============================] - 5s 5ms/step - loss: 0.4387 - accuracy: 0.8836 - val_loss: 0.3988 - val_accuracy: 0.8950\n",
      "Epoch 99/100\n",
      "1022/1022 [==============================] - 5s 4ms/step - loss: 0.4314 - accuracy: 0.8826 - val_loss: 0.3948 - val_accuracy: 0.9041\n",
      "Epoch 100/100\n",
      "1022/1022 [==============================] - 4s 4ms/step - loss: 0.4496 - accuracy: 0.8748 - val_loss: 0.4144 - val_accuracy: 0.8858\n"
     ]
    }
   ],
   "source": [
    "hist3 = model3.fit(X_train,Y_train,batch_size = 32,epochs = 100,validation_data = (X_Val,Y_Val))"
   ]
  },
  {
   "cell_type": "code",
   "execution_count": 110,
   "metadata": {},
   "outputs": [
    {
     "data": {
      "image/png": "[encoded data removed]",
      "text/plain": [
       "<Figure size 432x288 with 1 Axes>"
      ]
     },
     "metadata": {
      "needs_background": "light"
     },
     "output_type": "display_data"
    }
   ],
   "source": [
    "plt.plot(hist.history['accuracy'])\n",
    "plt.plot(hist.history['val_accuracy'])\n",
    "plt.title('Model accuracy')\n",
    "plt.ylabel('accuracy')\n",
    "plt.xlabel('Epoch')\n",
    "plt.legend(['Train','Val'],loc='upper right')\n",
    "plt.show()"
   ]
  },
  {
   "cell_type": "code",
   "execution_count": 111,
   "metadata": {},
   "outputs": [
    {
     "data": {
      "image/png": "[encoded data removed]",
      "text/plain": [
       "<Figure size 432x288 with 1 Axes>"
      ]
     },
     "metadata": {
      "needs_background": "light"
     },
     "output_type": "display_data"
    }
   ],
   "source": [
    "plt.plot(hist.history['loss'])\n",
    "plt.plot(hist.history['val_loss'])\n",
    "plt.title('Model Loss')\n",
    "plt.ylabel('Loss')\n",
    "plt.xlabel('Epoch')\n",
    "plt.legend(['Train','Val'],loc='upper right')\n",
    "plt.show()"
   ]
  },
  {
   "cell_type": "code",
   "execution_count": null,
   "metadata": {},
   "outputs": [],
   "source": []
  }
 ],
 "metadata": {
  "kernelspec": {
   "display_name": "Python 3",
   "language": "python",
   "name": "python3"
  },
  "language_info": {
   "codemirror_mode": {
    "name": "ipython",
    "version": 3
   },
   "file_extension": ".py",
   "mimetype": "text/x-python",
   "name": "python",
   "nbconvert_exporter": "python",
   "pygments_lexer": "ipython3",
   "version": "3.7.4"
  }
 },
 "nbformat": 4,
 "nbformat_minor": 4
}
